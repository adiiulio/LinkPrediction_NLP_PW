{
 "cells": [
  {
   "cell_type": "code",
   "execution_count": 1,
   "metadata": {
    "execution": {
     "iopub.execute_input": "2025-08-18T16:47:50.745252Z",
     "iopub.status.busy": "2025-08-18T16:47:50.744963Z",
     "iopub.status.idle": "2025-08-18T16:47:56.569605Z",
     "shell.execute_reply": "2025-08-18T16:47:56.568681Z",
     "shell.execute_reply.started": "2025-08-18T16:47:50.745208Z"
    },
    "id": "C_-x0nDpVHK6",
    "trusted": true
   },
   "outputs": [
    {
     "name": "stdout",
     "output_type": "stream",
     "text": [
      "\u001b[2K   \u001b[90m━━━━━━━━━━━━━━━━━━━━━━━━━━━━━━━━━━━━━━━━\u001b[0m \u001b[32m193.6/193.6 kB\u001b[0m \u001b[31m4.3 MB/s\u001b[0m eta \u001b[36m0:00:00\u001b[0ma \u001b[36m0:00:01\u001b[0m\n",
      "\u001b[?25h\u001b[31mERROR: pip's dependency resolver does not currently take into account all the packages that are installed. This behaviour is the source of the following dependency conflicts.\n",
      "bigframes 2.8.0 requires google-cloud-bigquery-storage<3.0.0,>=2.30.0, which is not installed.\n",
      "cesium 0.12.4 requires numpy<3.0,>=2.0, but you have numpy 1.26.4 which is incompatible.\n",
      "torch 2.6.0+cu124 requires nvidia-cublas-cu12==12.4.5.8; platform_system == \"Linux\" and platform_machine == \"x86_64\", but you have nvidia-cublas-cu12 12.5.3.2 which is incompatible.\n",
      "torch 2.6.0+cu124 requires nvidia-cuda-cupti-cu12==12.4.127; platform_system == \"Linux\" and platform_machine == \"x86_64\", but you have nvidia-cuda-cupti-cu12 12.5.82 which is incompatible.\n",
      "torch 2.6.0+cu124 requires nvidia-cuda-nvrtc-cu12==12.4.127; platform_system == \"Linux\" and platform_machine == \"x86_64\", but you have nvidia-cuda-nvrtc-cu12 12.5.82 which is incompatible.\n",
      "torch 2.6.0+cu124 requires nvidia-cuda-runtime-cu12==12.4.127; platform_system == \"Linux\" and platform_machine == \"x86_64\", but you have nvidia-cuda-runtime-cu12 12.5.82 which is incompatible.\n",
      "torch 2.6.0+cu124 requires nvidia-cudnn-cu12==9.1.0.70; platform_system == \"Linux\" and platform_machine == \"x86_64\", but you have nvidia-cudnn-cu12 9.3.0.75 which is incompatible.\n",
      "torch 2.6.0+cu124 requires nvidia-cufft-cu12==11.2.1.3; platform_system == \"Linux\" and platform_machine == \"x86_64\", but you have nvidia-cufft-cu12 11.2.3.61 which is incompatible.\n",
      "torch 2.6.0+cu124 requires nvidia-curand-cu12==10.3.5.147; platform_system == \"Linux\" and platform_machine == \"x86_64\", but you have nvidia-curand-cu12 10.3.6.82 which is incompatible.\n",
      "torch 2.6.0+cu124 requires nvidia-cusolver-cu12==11.6.1.9; platform_system == \"Linux\" and platform_machine == \"x86_64\", but you have nvidia-cusolver-cu12 11.6.3.83 which is incompatible.\n",
      "torch 2.6.0+cu124 requires nvidia-cusparse-cu12==12.3.1.170; platform_system == \"Linux\" and platform_machine == \"x86_64\", but you have nvidia-cusparse-cu12 12.5.1.3 which is incompatible.\n",
      "torch 2.6.0+cu124 requires nvidia-nvjitlink-cu12==12.4.127; platform_system == \"Linux\" and platform_machine == \"x86_64\", but you have nvidia-nvjitlink-cu12 12.5.82 which is incompatible.\n",
      "gcsfs 2025.3.2 requires fsspec==2025.3.2, but you have fsspec 2025.3.0 which is incompatible.\n",
      "bigframes 2.8.0 requires google-cloud-bigquery[bqstorage,pandas]>=3.31.0, but you have google-cloud-bigquery 3.25.0 which is incompatible.\n",
      "bigframes 2.8.0 requires rich<14,>=12.4.4, but you have rich 14.0.0 which is incompatible.\u001b[0m\u001b[31m\n",
      "\u001b[0m"
     ]
    }
   ],
   "source": [
    "!pip install -q datasets"
   ]
  },
  {
   "cell_type": "markdown",
   "metadata": {},
   "source": [
    "In this section we load the triples into train, test and validation from the FB15k-237 dataset. This dataset contains three sections which represent, intuitively, train test and validation. Each is divided into triples, containing a head (subject of the phrase), a relation and a tail (object of the phrase). \n",
    "\n",
    "There are two possible versions of this dataset: \n",
    "- FB15K, which is the original version\n",
    "- FB15K-237, which is the one I use. This second version only keeps 237 possible relations, and filters out the problematic ones which were found in the previous version of the dataset.\n",
    "\n",
    "In my case, the choice was made also because of the encoding which is later used, which was only found for this specific version of the dataset. Since in the task description I was left free to choose I have decided to use this second, newer version."
   ]
  },
  {
   "cell_type": "code",
   "execution_count": 2,
   "metadata": {
    "colab": {
     "base_uri": "https://localhost:8080/",
     "height": 382,
     "referenced_widgets": [
      "161300e40b1744e792190574d8f1ae4e",
      "908cf0621e5f449d848a8e0358103aae",
      "3f03cb71ffa84260a55747417ccd5b7e",
      "2e86fc6f454f4520987cbb74c19aeb58",
      "49e0b0c891f7425c9a7f236498a4c8e3",
      "5182a1048b0f46e7b9b3087f64895c75",
      "039f6eb2e4c8465893abc04dd897fd63",
      "5f62831d6dec4c5199029f6678a78c5e",
      "07f665e4e3324af1a63973df96b2f74e",
      "6aa5e640ee7c42d88578521b0fde8b5f",
      "16c5cad737434496b160b58c0995a0fa",
      "9ca88f1eb1d343fba0d88360fcbfb35e",
      "0e197d7762c445d48d85a842fb6b0fb3",
      "c5176e5c1e2b4d128dfed67b6d42430e",
      "f4faaa22ff194f5198526db3f9716768",
      "a8ec611fd2164cb6af775b27be82e975",
      "f29954f9f3514f2faa4b88c1a05be0f0",
      "1b81b0b7f0f744868f10d62081e60db1",
      "bdd7a700989a4e8e8f8d6140e2df216e",
      "4f5d3f3e1bc643a886f348789e7bf52d",
      "b68b364298f240c19c1dacbb6ab6d4ab",
      "f8d8517ab2d548e8b761f1e1c6020b6b",
      "3d89dbecab9a451386701db0fb8f1ac6",
      "ccea143913c14cf9b6b6d36ba4537003",
      "d418908020b641148e4150da379e32a5",
      "4fa04f2cb0344c36add0912d6fea57e7",
      "7b8125dc670f48bd8c43ac9ba185446b",
      "bbc04c2832f2418cb3941922ba0fe322",
      "946bc785bc2b463baf66d20f049725a4",
      "b68e751ffd2d440c9c46cd9b16d51293",
      "5af62ace21344c0eb832f08763ccb2dd",
      "bd4c6764b9ab4ef98fa42f8caa3c41b0",
      "d9841c70b30640438b97a2d24512d3cc",
      "b7c9a7fdfcda4691a3ecf60e24a35e67",
      "5a8130d129a14e61ad80b8dfe2aac9ee",
      "78e38325373747b7b9296fac648b028c",
      "339e884994744f6b86127ef7e554e712",
      "1a8c94d0b8ba4ff1858c85c986d42edb",
      "55bb5450d4ea4fc6a3c3fc5c6deb3883",
      "bb94fc7f0eac498db98bcd9d25c77198",
      "e381fbcebbf844ee8835fed2c4e77b5f",
      "073241a9b6354907bb0ad029adefd5d1",
      "25e627ef4d0b40a1b4b09d707ca29d8e",
      "0b20511c9e75447eb4f700bce8c077f9",
      "7ae26e08784b4533939848188bab1b8a",
      "0047d520ad694ec094877b32007e20ef",
      "de5992a1f6944c488d8d88160ff9baac",
      "aa4519ff03bd4c0eb7a220ac02aef9f7",
      "e9497f6f5f374288a638cbfba91c92cf",
      "8069f323370447e48c918d7093abe396",
      "fd7cd179aadc4c2a93d17764c367752e",
      "e1be8409510d4758a96c0b47a62582cc",
      "20c45ee72e4343b8b250d698ca3e5966",
      "a83d2d1f68d148219b90767fac35217d",
      "224b3a28d7ba44a5996f44717d1dd833",
      "1ff37d9296ee4202a0cca0251131eff2",
      "7fbd375ab9c642d58ad50aa906f754bd",
      "770278be97c54dc6b1ca46147e8055f6",
      "099301b553704ee5ad7816af05d163e5",
      "10a71c40494e48fb8cbb6ed45fc9afd9",
      "08a71267389649b8a2ba38789834a82d",
      "593855b97a54479c916e10d93f3dce32",
      "624dc1e05cb14d7f9993720102bdfbc3",
      "d91c19682ba64d73b432043989d2002e",
      "16ecf93e34164f5295c01f52cd4ecdbf",
      "8fa71abd28534900b85d484162f35aa7",
      "a5dfb567e550478faf7c5c59ad8c229b",
      "931f7dfe273544b2a9c868d63ddd4afe",
      "b0a9d1157610443398825bb491703bac",
      "9953177171b344a9b53bfc586bb8e7db",
      "68cb7b2197614ede8dc8ada218596591",
      "bdff9ee7fb534296ad849952d592eded",
      "681081b14cea430ca58408090a751a2e",
      "5833c0be5ee049e59a1249bb1e54ab37",
      "8607c4311fb94a7bac0ca1127a4457e1",
      "8c80cb0a7bd742418b24910806387f28",
      "ce764fcf7207455d8cf963a62a7b18cd"
     ]
    },
    "execution": {
     "iopub.execute_input": "2025-08-18T16:47:56.571473Z",
     "iopub.status.busy": "2025-08-18T16:47:56.571212Z",
     "iopub.status.idle": "2025-08-18T16:48:01.787644Z",
     "shell.execute_reply": "2025-08-18T16:48:01.787064Z",
     "shell.execute_reply.started": "2025-08-18T16:47:56.571451Z"
    },
    "id": "oL5doQOWVHK9",
    "outputId": "b3097ed1-1551-45de-85f9-0383b484ff09",
    "trusted": true
   },
   "outputs": [
    {
     "data": {
      "application/vnd.jupyter.widget-view+json": {
       "model_id": "fc4523de6f664e868612b5250b56212f",
       "version_major": 2,
       "version_minor": 0
      },
      "text/plain": [
       "README.md:   0%|          | 0.00/27.0 [00:00<?, ?B/s]"
      ]
     },
     "metadata": {},
     "output_type": "display_data"
    },
    {
     "data": {
      "application/vnd.jupyter.widget-view+json": {
       "model_id": "ef52a1940545414eb744a7a23be3752f",
       "version_major": 2,
       "version_minor": 0
      },
      "text/plain": [
       "train.csv:   0%|          | 0.00/21.0M [00:00<?, ?B/s]"
      ]
     },
     "metadata": {},
     "output_type": "display_data"
    },
    {
     "data": {
      "application/vnd.jupyter.widget-view+json": {
       "model_id": "e1ad385e401f4ac7856200b99470abd0",
       "version_major": 2,
       "version_minor": 0
      },
      "text/plain": [
       "valid.csv: 0.00B [00:00, ?B/s]"
      ]
     },
     "metadata": {},
     "output_type": "display_data"
    },
    {
     "data": {
      "application/vnd.jupyter.widget-view+json": {
       "model_id": "4fb108232849455d9b9ba82a0d61f615",
       "version_major": 2,
       "version_minor": 0
      },
      "text/plain": [
       "test.csv: 0.00B [00:00, ?B/s]"
      ]
     },
     "metadata": {},
     "output_type": "display_data"
    },
    {
     "data": {
      "application/vnd.jupyter.widget-view+json": {
       "model_id": "afb097c100b2471c9baad4cdfc623c4f",
       "version_major": 2,
       "version_minor": 0
      },
      "text/plain": [
       "Generating train split:   0%|          | 0/272115 [00:00<?, ? examples/s]"
      ]
     },
     "metadata": {},
     "output_type": "display_data"
    },
    {
     "data": {
      "application/vnd.jupyter.widget-view+json": {
       "model_id": "5021dfe481a84393bbcf8099002ed3ac",
       "version_major": 2,
       "version_minor": 0
      },
      "text/plain": [
       "Generating validation split:   0%|          | 0/17535 [00:00<?, ? examples/s]"
      ]
     },
     "metadata": {},
     "output_type": "display_data"
    },
    {
     "data": {
      "application/vnd.jupyter.widget-view+json": {
       "model_id": "1d234264867d426ebd75c9909cf91bda",
       "version_major": 2,
       "version_minor": 0
      },
      "text/plain": [
       "Generating test split:   0%|          | 0/20466 [00:00<?, ? examples/s]"
      ]
     },
     "metadata": {},
     "output_type": "display_data"
    },
    {
     "name": "stdout",
     "output_type": "stream",
     "text": [
      "{'head': '/m/027rn', 'relation': '/m/06cx9', 'tail': '/location/country/form_of_government'}\n"
     ]
    }
   ],
   "source": [
    "from datasets import load_dataset\n",
    "import tqdm as notebook_tqdm\n",
    "# FB15k-237 from HuggingFace\n",
    "dataset = load_dataset(\"VLyb/FB15k-237\")\n",
    "\n",
    "train_triples = dataset[\"train\"]\n",
    "test_triples = dataset[\"test\"]\n",
    "valid_triples = dataset[\"validation\"]\n",
    "print(train_triples[0])"
   ]
  },
  {
   "cell_type": "code",
   "execution_count": 3,
   "metadata": {
    "colab": {
     "base_uri": "https://localhost:8080/"
    },
    "execution": {
     "iopub.execute_input": "2025-08-18T16:48:01.788636Z",
     "iopub.status.busy": "2025-08-18T16:48:01.788320Z",
     "iopub.status.idle": "2025-08-18T16:48:01.793544Z",
     "shell.execute_reply": "2025-08-18T16:48:01.792798Z",
     "shell.execute_reply.started": "2025-08-18T16:48:01.788619Z"
    },
    "id": "Tp1n_ekWGngG",
    "outputId": "f104751b-06b5-4b3e-8db4-1454dcdd0b4b",
    "trusted": true
   },
   "outputs": [
    {
     "name": "stdout",
     "output_type": "stream",
     "text": [
      "{'head': '/m/027rn', 'relation': '/m/06cx9', 'tail': '/location/country/form_of_government'}\n",
      "{'head': '/m/017dcd', 'relation': '/m/06v8s0', 'tail': '/tv/tv_program/regular_cast./tv/regular_tv_appearance/actor'}\n",
      "{'head': '/m/07s9rl0', 'relation': '/m/0170z3', 'tail': '/media_common/netflix_genre/titles'}\n"
     ]
    }
   ],
   "source": [
    "print(train_triples[0])\n",
    "print(train_triples[1])\n",
    "print(train_triples[2])"
   ]
  },
  {
   "cell_type": "code",
   "execution_count": 4,
   "metadata": {
    "execution": {
     "iopub.execute_input": "2025-08-18T16:48:01.795409Z",
     "iopub.status.busy": "2025-08-18T16:48:01.795170Z",
     "iopub.status.idle": "2025-08-18T16:48:01.811421Z",
     "shell.execute_reply": "2025-08-18T16:48:01.810652Z",
     "shell.execute_reply.started": "2025-08-18T16:48:01.795391Z"
    },
    "trusted": true
   },
   "outputs": [
    {
     "name": "stdout",
     "output_type": "stream",
     "text": [
      "{'head': '/m/08966', 'relation': '/m/05lf_', 'tail': '/travel/travel_destination/climate./travel/travel_destination_monthly_climate/month'}\n",
      "{'head': '/m/01hww_', 'relation': '/m/01q99h', 'tail': '/music/performance_role/regular_performances./music/group_membership/group'}\n",
      "{'head': '/m/09v3jyg', 'relation': '/m/0f8l9c', 'tail': '/film/film/release_date_s./film/film_regional_release_date/film_release_region'}\n"
     ]
    }
   ],
   "source": [
    "print(test_triples[0])\n",
    "print(test_triples[1])\n",
    "print(test_triples[2])"
   ]
  },
  {
   "cell_type": "code",
   "execution_count": 5,
   "metadata": {
    "execution": {
     "iopub.execute_input": "2025-08-18T16:48:01.812368Z",
     "iopub.status.busy": "2025-08-18T16:48:01.812107Z",
     "iopub.status.idle": "2025-08-18T16:48:01.827894Z",
     "shell.execute_reply": "2025-08-18T16:48:01.827136Z",
     "shell.execute_reply.started": "2025-08-18T16:48:01.812347Z"
    },
    "trusted": true
   },
   "outputs": [
    {
     "name": "stdout",
     "output_type": "stream",
     "text": [
      "{'head': '/m/07pd_j', 'relation': '/m/02l7c8', 'tail': '/film/film/genre'}\n",
      "{'head': '/m/06wxw', 'relation': '/m/02fqwt', 'tail': '/location/location/time_zones'}\n",
      "{'head': '/m/01t94_1', 'relation': '/m/04ztj', 'tail': '/people/person/spouse_s./people/marriage/type_of_union'}\n"
     ]
    }
   ],
   "source": [
    "print(valid_triples[0])\n",
    "print(valid_triples[1])\n",
    "print(valid_triples[2])"
   ]
  },
  {
   "cell_type": "markdown",
   "metadata": {
    "id": "HlHdCpQiHMsy"
   },
   "source": [
    "As we see here it looks like the relation and tail are inverted. This makes the evaluation of model performance meaningless if it is not corrected. Therefore we will fix it in the following way:"
   ]
  },
  {
   "cell_type": "code",
   "execution_count": 6,
   "metadata": {
    "execution": {
     "iopub.execute_input": "2025-08-18T16:48:01.828901Z",
     "iopub.status.busy": "2025-08-18T16:48:01.828605Z",
     "iopub.status.idle": "2025-08-18T16:48:16.991722Z",
     "shell.execute_reply": "2025-08-18T16:48:16.990910Z",
     "shell.execute_reply.started": "2025-08-18T16:48:01.828876Z"
    },
    "id": "PTrRcfoVHWkr",
    "trusted": true
   },
   "outputs": [
    {
     "data": {
      "application/vnd.jupyter.widget-view+json": {
       "model_id": "7e12368ce3234e6bad857bf86ce3a034",
       "version_major": 2,
       "version_minor": 0
      },
      "text/plain": [
       "Map:   0%|          | 0/272115 [00:00<?, ? examples/s]"
      ]
     },
     "metadata": {},
     "output_type": "display_data"
    },
    {
     "data": {
      "application/vnd.jupyter.widget-view+json": {
       "model_id": "fb7efad6056f496f9667cf12c3be414e",
       "version_major": 2,
       "version_minor": 0
      },
      "text/plain": [
       "Map:   0%|          | 0/17535 [00:00<?, ? examples/s]"
      ]
     },
     "metadata": {},
     "output_type": "display_data"
    },
    {
     "data": {
      "application/vnd.jupyter.widget-view+json": {
       "model_id": "f3c77034b3ad4a0da6c562c84d025932",
       "version_major": 2,
       "version_minor": 0
      },
      "text/plain": [
       "Map:   0%|          | 0/20466 [00:00<?, ? examples/s]"
      ]
     },
     "metadata": {},
     "output_type": "display_data"
    }
   ],
   "source": [
    "def fix_fields(example):\n",
    "    return {\n",
    "        \"head\": example[\"head\"],\n",
    "        \"relation\": example[\"tail\"],\n",
    "        \"tail\": example[\"relation\"]\n",
    "    }\n",
    "\n",
    "train_dataset = dataset[\"train\"].map(fix_fields)\n",
    "valid_dataset = dataset[\"validation\"].map(fix_fields)\n",
    "test_dataset  = dataset[\"test\"].map(fix_fields)\n",
    "\n"
   ]
  },
  {
   "cell_type": "markdown",
   "metadata": {},
   "source": [
    "Training on a subset of the dataset was done in order to be able to speed up the process"
   ]
  },
  {
   "cell_type": "code",
   "execution_count": 7,
   "metadata": {
    "execution": {
     "iopub.execute_input": "2025-08-18T16:48:16.993175Z",
     "iopub.status.busy": "2025-08-18T16:48:16.992594Z",
     "iopub.status.idle": "2025-08-18T16:48:17.001385Z",
     "shell.execute_reply": "2025-08-18T16:48:17.000872Z",
     "shell.execute_reply.started": "2025-08-18T16:48:16.993149Z"
    },
    "trusted": true
   },
   "outputs": [],
   "source": [
    "train_subset_size = 10000\n",
    "val_test_subset_size = 2000\n",
    "\n",
    "train_triples = train_dataset.select(range(train_subset_size))\n",
    "valid_triples = valid_dataset.select(range(val_test_subset_size))\n",
    "test_triples  = test_dataset.select(range(val_test_subset_size))"
   ]
  },
  {
   "cell_type": "code",
   "execution_count": 8,
   "metadata": {
    "execution": {
     "iopub.execute_input": "2025-08-18T16:48:17.002196Z",
     "iopub.status.busy": "2025-08-18T16:48:17.001995Z",
     "iopub.status.idle": "2025-08-18T16:48:17.077149Z",
     "shell.execute_reply": "2025-08-18T16:48:17.076685Z",
     "shell.execute_reply.started": "2025-08-18T16:48:17.002179Z"
    },
    "trusted": true
   },
   "outputs": [
    {
     "data": {
      "text/plain": [
       "10000"
      ]
     },
     "execution_count": 8,
     "metadata": {},
     "output_type": "execute_result"
    }
   ],
   "source": [
    "len(train_triples)"
   ]
  },
  {
   "cell_type": "code",
   "execution_count": 9,
   "metadata": {
    "colab": {
     "base_uri": "https://localhost:8080/"
    },
    "execution": {
     "iopub.execute_input": "2025-08-18T16:48:17.078445Z",
     "iopub.status.busy": "2025-08-18T16:48:17.077944Z",
     "iopub.status.idle": "2025-08-18T16:48:17.097247Z",
     "shell.execute_reply": "2025-08-18T16:48:17.096697Z",
     "shell.execute_reply.started": "2025-08-18T16:48:17.078421Z"
    },
    "id": "e2fvJxLvHXyq",
    "outputId": "e2217ed7-90d1-4831-baeb-531f47156f53",
    "trusted": true
   },
   "outputs": [
    {
     "name": "stdout",
     "output_type": "stream",
     "text": [
      "{'head': '/m/027rn', 'relation': '/location/country/form_of_government', 'tail': '/m/06cx9'}\n",
      "{'head': '/m/017dcd', 'relation': '/tv/tv_program/regular_cast./tv/regular_tv_appearance/actor', 'tail': '/m/06v8s0'}\n",
      "{'head': '/m/07s9rl0', 'relation': '/media_common/netflix_genre/titles', 'tail': '/m/0170z3'}\n"
     ]
    }
   ],
   "source": [
    "print(train_triples[0])\n",
    "print(train_triples[1])\n",
    "print(train_triples[2])"
   ]
  },
  {
   "cell_type": "code",
   "execution_count": 10,
   "metadata": {
    "execution": {
     "iopub.execute_input": "2025-08-18T16:48:17.099664Z",
     "iopub.status.busy": "2025-08-18T16:48:17.099467Z",
     "iopub.status.idle": "2025-08-18T16:48:17.112551Z",
     "shell.execute_reply": "2025-08-18T16:48:17.112040Z",
     "shell.execute_reply.started": "2025-08-18T16:48:17.099650Z"
    },
    "id": "QHIouv_z1zt_",
    "trusted": true
   },
   "outputs": [],
   "source": [
    "# use only a subset of the data. This is done as my laptop does not have a GPU and therfore struggles\n",
    "# subset_size = 10000\n",
    "\n",
    "# train_triples = train_triples.select(range(subset_size))\n",
    "# valid_triples = valid_triples.select(range(2000))\n",
    "# test_triples = test_triples.select(range(2000))"
   ]
  },
  {
   "cell_type": "markdown",
   "metadata": {
    "id": "addbpc1h-Qty"
   },
   "source": [
    "* load the mapping of entities and relations"
   ]
  },
  {
   "cell_type": "code",
   "execution_count": 11,
   "metadata": {
    "colab": {
     "base_uri": "https://localhost:8080/"
    },
    "execution": {
     "iopub.execute_input": "2025-08-18T16:48:17.113499Z",
     "iopub.status.busy": "2025-08-18T16:48:17.113297Z",
     "iopub.status.idle": "2025-08-18T16:48:17.875285Z",
     "shell.execute_reply": "2025-08-18T16:48:17.874618Z",
     "shell.execute_reply.started": "2025-08-18T16:48:17.113484Z"
    },
    "id": "pzS_uixP_cZZ",
    "outputId": "4670166a-a68e-495f-cc21-a12963586e1c",
    "trusted": true
   },
   "outputs": [
    {
     "name": "stdout",
     "output_type": "stream",
     "text": [
      "--2025-08-18 16:48:17--  https://raw.githubusercontent.com/yao8839836/kg-bert/master/data/FB15k-237/entity2text.txt\n",
      "Resolving raw.githubusercontent.com (raw.githubusercontent.com)... 185.199.109.133, 185.199.108.133, 185.199.111.133, ...\n",
      "Connecting to raw.githubusercontent.com (raw.githubusercontent.com)|185.199.109.133|:443... connected.\n",
      "HTTP request sent, awaiting response... 200 OK\n",
      "Length: 392383 (383K) [text/plain]\n",
      "Saving to: ‘entity2text.txt’\n",
      "\n",
      "entity2text.txt     100%[===================>] 383.19K  --.-KB/s    in 0.03s   \n",
      "\n",
      "2025-08-18 16:48:17 (11.3 MB/s) - ‘entity2text.txt’ saved [392383/392383]\n",
      "\n",
      "--2025-08-18 16:48:17--  https://raw.githubusercontent.com/yao8839836/kg-bert/master/data/FB15k-237/relation2text.txt\n",
      "Resolving raw.githubusercontent.com (raw.githubusercontent.com)... 185.199.110.133, 185.199.108.133, 185.199.111.133, ...\n",
      "Connecting to raw.githubusercontent.com (raw.githubusercontent.com)|185.199.110.133|:443... connected.\n",
      "HTTP request sent, awaiting response... 200 OK\n",
      "Length: 29130 (28K) [text/plain]\n",
      "Saving to: ‘relation2text.txt’\n",
      "\n",
      "relation2text.txt   100%[===================>]  28.45K  --.-KB/s    in 0.003s  \n",
      "\n",
      "2025-08-18 16:48:17 (8.39 MB/s) - ‘relation2text.txt’ saved [29130/29130]\n",
      "\n"
     ]
    }
   ],
   "source": [
    "!wget https://raw.githubusercontent.com/yao8839836/kg-bert/master/data/FB15k-237/entity2text.txt\n",
    "!wget https://raw.githubusercontent.com/yao8839836/kg-bert/master/data/FB15k-237/relation2text.txt\n",
    "\n",
    "# Load entity names\n",
    "entity_map = {}\n",
    "with open(\"entity2text.txt\", encoding=\"utf-8\") as f:\n",
    "    for line in f:\n",
    "        eid, name = line.strip().split('\\t')\n",
    "        entity_map[eid] = name\n",
    "\n",
    "# Load relation names\n",
    "relation_map = {}\n",
    "with open(\"relation2text.txt\", encoding=\"utf-8\") as f:\n",
    "    for line in f:\n",
    "        rid, name = line.strip().split('\\t')\n",
    "        relation_map[rid] = name\n",
    "\n",
    "\n",
    "def triple_to_sentence(h, r, t, entity_map = entity_map, relation_map = relation_map):\n",
    "    h_text = entity_map.get(h, h)\n",
    "    r_text = relation_map.get(r, r.replace(\"/\", \" \").replace(\"_\", \" \"))\n",
    "    t_text = entity_map.get(t, t)\n",
    "    return f\"{h_text} {r_text} {t_text}.\""
   ]
  },
  {
   "cell_type": "code",
   "execution_count": 12,
   "metadata": {
    "execution": {
     "iopub.execute_input": "2025-08-18T16:48:17.876646Z",
     "iopub.status.busy": "2025-08-18T16:48:17.876396Z",
     "iopub.status.idle": "2025-08-18T16:48:17.883465Z",
     "shell.execute_reply": "2025-08-18T16:48:17.882835Z",
     "shell.execute_reply.started": "2025-08-18T16:48:17.876624Z"
    },
    "trusted": true
   },
   "outputs": [
    {
     "data": {
      "text/plain": [
       "'Dominican Republic location country form of government Republic.'"
      ]
     },
     "execution_count": 12,
     "metadata": {},
     "output_type": "execute_result"
    }
   ],
   "source": [
    "h = train_triples[0]['head']\n",
    "r = train_triples[0]['relation']\n",
    "t = train_triples[0]['tail']\n",
    "sentence = triple_to_sentence(h, r, t, entity_map, relation_map)\n",
    "sentence"
   ]
  },
  {
   "cell_type": "markdown",
   "metadata": {},
   "source": [
    "This looks as expected, and it looks more like a human-readable phrase which can be used by modernBERT comfortably. \n",
    "\n",
    "**Why is this?**\n",
    "\n",
    "ModernBERT, being a pretrained language model, works best on human-readable phrases. Therefore, converting the ids which are used for head, relation and tail, is necessary as it is the only way that we can take advantage of this pretraining. This will be later on proved by the results of the experiments as well as the counter-example which can be found at the very end of this notebook. "
   ]
  },
  {
   "cell_type": "code",
   "execution_count": 13,
   "metadata": {
    "colab": {
     "base_uri": "https://localhost:8080/",
     "height": 1000
    },
    "execution": {
     "iopub.execute_input": "2025-08-18T16:48:17.884541Z",
     "iopub.status.busy": "2025-08-18T16:48:17.884276Z",
     "iopub.status.idle": "2025-08-18T16:49:02.986513Z",
     "shell.execute_reply": "2025-08-18T16:49:02.985782Z",
     "shell.execute_reply.started": "2025-08-18T16:48:17.884519Z"
    },
    "id": "B9Qau4qQVHK-",
    "outputId": "afc98bfb-b797-447e-e9cc-4cc5dd0ea1ed",
    "trusted": true
   },
   "outputs": [
    {
     "data": {
      "application/vnd.jupyter.widget-view+json": {
       "model_id": "37485aaa6efe4ea9935fdffd0bb8ced1",
       "version_major": 2,
       "version_minor": 0
      },
      "text/plain": [
       "tokenizer_config.json: 0.00B [00:00, ?B/s]"
      ]
     },
     "metadata": {},
     "output_type": "display_data"
    },
    {
     "data": {
      "application/vnd.jupyter.widget-view+json": {
       "model_id": "a9788c47932948e7bad7f0394bd8dd3b",
       "version_major": 2,
       "version_minor": 0
      },
      "text/plain": [
       "tokenizer.json: 0.00B [00:00, ?B/s]"
      ]
     },
     "metadata": {},
     "output_type": "display_data"
    },
    {
     "data": {
      "application/vnd.jupyter.widget-view+json": {
       "model_id": "79ecc12958de4c9eb5e37ed715ed78b9",
       "version_major": 2,
       "version_minor": 0
      },
      "text/plain": [
       "special_tokens_map.json:   0%|          | 0.00/694 [00:00<?, ?B/s]"
      ]
     },
     "metadata": {},
     "output_type": "display_data"
    },
    {
     "data": {
      "application/vnd.jupyter.widget-view+json": {
       "model_id": "0003c7efe48b43e8a530dad84b759a17",
       "version_major": 2,
       "version_minor": 0
      },
      "text/plain": [
       "config.json: 0.00B [00:00, ?B/s]"
      ]
     },
     "metadata": {},
     "output_type": "display_data"
    },
    {
     "name": "stderr",
     "output_type": "stream",
     "text": [
      "2025-08-18 16:48:43.121167: E external/local_xla/xla/stream_executor/cuda/cuda_fft.cc:477] Unable to register cuFFT factory: Attempting to register factory for plugin cuFFT when one has already been registered\n",
      "WARNING: All log messages before absl::InitializeLog() is called are written to STDERR\n",
      "E0000 00:00:1755535723.467234      36 cuda_dnn.cc:8310] Unable to register cuDNN factory: Attempting to register factory for plugin cuDNN when one has already been registered\n",
      "E0000 00:00:1755535723.564438      36 cuda_blas.cc:1418] Unable to register cuBLAS factory: Attempting to register factory for plugin cuBLAS when one has already been registered\n"
     ]
    },
    {
     "data": {
      "application/vnd.jupyter.widget-view+json": {
       "model_id": "b2f9fa25adef4062983aa1bc60be644c",
       "version_major": 2,
       "version_minor": 0
      },
      "text/plain": [
       "model.safetensors:   0%|          | 0.00/599M [00:00<?, ?B/s]"
      ]
     },
     "metadata": {},
     "output_type": "display_data"
    },
    {
     "data": {
      "text/plain": [
       "ModernBertModel(\n",
       "  (embeddings): ModernBertEmbeddings(\n",
       "    (tok_embeddings): Embedding(50368, 768, padding_idx=50283)\n",
       "    (norm): LayerNorm((768,), eps=1e-05, elementwise_affine=True)\n",
       "    (drop): Dropout(p=0.0, inplace=False)\n",
       "  )\n",
       "  (layers): ModuleList(\n",
       "    (0): ModernBertEncoderLayer(\n",
       "      (attn_norm): Identity()\n",
       "      (attn): ModernBertAttention(\n",
       "        (Wqkv): Linear(in_features=768, out_features=2304, bias=False)\n",
       "        (rotary_emb): ModernBertRotaryEmbedding()\n",
       "        (Wo): Linear(in_features=768, out_features=768, bias=False)\n",
       "        (out_drop): Identity()\n",
       "      )\n",
       "      (mlp_norm): LayerNorm((768,), eps=1e-05, elementwise_affine=True)\n",
       "      (mlp): ModernBertMLP(\n",
       "        (Wi): Linear(in_features=768, out_features=2304, bias=False)\n",
       "        (act): GELUActivation()\n",
       "        (drop): Dropout(p=0.0, inplace=False)\n",
       "        (Wo): Linear(in_features=1152, out_features=768, bias=False)\n",
       "      )\n",
       "    )\n",
       "    (1-21): 21 x ModernBertEncoderLayer(\n",
       "      (attn_norm): LayerNorm((768,), eps=1e-05, elementwise_affine=True)\n",
       "      (attn): ModernBertAttention(\n",
       "        (Wqkv): Linear(in_features=768, out_features=2304, bias=False)\n",
       "        (rotary_emb): ModernBertRotaryEmbedding()\n",
       "        (Wo): Linear(in_features=768, out_features=768, bias=False)\n",
       "        (out_drop): Identity()\n",
       "      )\n",
       "      (mlp_norm): LayerNorm((768,), eps=1e-05, elementwise_affine=True)\n",
       "      (mlp): ModernBertMLP(\n",
       "        (Wi): Linear(in_features=768, out_features=2304, bias=False)\n",
       "        (act): GELUActivation()\n",
       "        (drop): Dropout(p=0.0, inplace=False)\n",
       "        (Wo): Linear(in_features=1152, out_features=768, bias=False)\n",
       "      )\n",
       "    )\n",
       "  )\n",
       "  (final_norm): LayerNorm((768,), eps=1e-05, elementwise_affine=True)\n",
       ")"
      ]
     },
     "execution_count": 13,
     "metadata": {},
     "output_type": "execute_result"
    }
   ],
   "source": [
    "from transformers import AutoTokenizer, AutoModel\n",
    "\n",
    "# load model and tokenizer -- ModernBERT\n",
    "tokenizer = AutoTokenizer.from_pretrained(\"answerdotai/ModernBERT-base\", trust_remote_code=True)\n",
    "model = AutoModel.from_pretrained(\"answerdotai/ModernBERT-base\", trust_remote_code=True)\n",
    "model.eval()"
   ]
  },
  {
   "cell_type": "code",
   "execution_count": 14,
   "metadata": {
    "execution": {
     "iopub.execute_input": "2025-08-18T16:49:02.987954Z",
     "iopub.status.busy": "2025-08-18T16:49:02.987341Z",
     "iopub.status.idle": "2025-08-18T16:49:02.992531Z",
     "shell.execute_reply": "2025-08-18T16:49:02.991699Z",
     "shell.execute_reply.started": "2025-08-18T16:49:02.987933Z"
    },
    "id": "3f8NqfAIVHK-",
    "trusted": true
   },
   "outputs": [],
   "source": [
    "import torch\n",
    "\n",
    "# score a sentence -- we would like a higher positive or negative score depending on the sentence\n",
    "\n",
    "@torch.no_grad()\n",
    "def score_sentence(sentence):\n",
    "    inputs = tokenizer(sentence, return_tensors=\"pt\")\n",
    "    outputs = model(**inputs)\n",
    "    cls_embedding = outputs.last_hidden_state[:, 0, :]\n",
    "    score = torch.norm(cls_embedding, p=2, dim=1)\n",
    "    return score.item()\n"
   ]
  },
  {
   "cell_type": "code",
   "execution_count": 15,
   "metadata": {
    "execution": {
     "iopub.execute_input": "2025-08-18T16:49:02.993829Z",
     "iopub.status.busy": "2025-08-18T16:49:02.993424Z",
     "iopub.status.idle": "2025-08-18T16:49:03.447069Z",
     "shell.execute_reply": "2025-08-18T16:49:03.446178Z",
     "shell.execute_reply.started": "2025-08-18T16:49:02.993805Z"
    },
    "id": "JUZRRy5-VHK_",
    "trusted": true
   },
   "outputs": [],
   "source": [
    "# get a set containing all the entities in any of the three sets\n",
    "all_entities = set()\n",
    "\n",
    "for split in [train_triples, test_triples, valid_triples]:\n",
    "    for row in split:\n",
    "        all_entities.update([row[\"head\"], row[\"tail\"]])\n",
    "all_entities = list(all_entities)\n"
   ]
  },
  {
   "cell_type": "code",
   "execution_count": 16,
   "metadata": {
    "execution": {
     "iopub.execute_input": "2025-08-18T16:49:03.448231Z",
     "iopub.status.busy": "2025-08-18T16:49:03.447946Z",
     "iopub.status.idle": "2025-08-18T16:49:03.453072Z",
     "shell.execute_reply": "2025-08-18T16:49:03.452226Z",
     "shell.execute_reply.started": "2025-08-18T16:49:03.448208Z"
    },
    "id": "OrEjdbPGVHK_",
    "trusted": true
   },
   "outputs": [],
   "source": [
    "import random\n",
    "\n",
    "# corrupt either the head or the tail\n",
    "def corrupt_triple(triple, entity_list):\n",
    "    head, relation, tail = triple\n",
    "    if random.random() < 0.5:\n",
    "        # Corrupt tail\n",
    "        corrupted = (head, relation, random.choice(entity_list))\n",
    "    else:\n",
    "        # Corrupt head\n",
    "        corrupted = (random.choice(entity_list), relation, tail)\n",
    "    return corrupted"
   ]
  },
  {
   "cell_type": "code",
   "execution_count": 17,
   "metadata": {
    "execution": {
     "iopub.execute_input": "2025-08-18T16:49:03.454130Z",
     "iopub.status.busy": "2025-08-18T16:49:03.453900Z",
     "iopub.status.idle": "2025-08-18T16:49:03.809453Z",
     "shell.execute_reply": "2025-08-18T16:49:03.808787Z",
     "shell.execute_reply.started": "2025-08-18T16:49:03.454104Z"
    },
    "id": "b2jyr0e-VHK_",
    "trusted": true
   },
   "outputs": [
    {
     "name": "stdout",
     "output_type": "stream",
     "text": [
      "Positive score: 36.1393\n",
      "Negative score: 36.7227\n"
     ]
    }
   ],
   "source": [
    "# Pick a positive triple\n",
    "pos = test_triples[0]\n",
    "pos_triple = (pos[\"head\"], pos[\"relation\"], pos[\"tail\"])\n",
    "\n",
    "# Corrupt it\n",
    "neg_triple = corrupt_triple(pos_triple, all_entities)\n",
    "\n",
    "# Convert to sentences\n",
    "pos_sentence = triple_to_sentence(*pos_triple, entity_map, relation_map)\n",
    "neg_sentence = triple_to_sentence(*neg_triple, entity_map, relation_map)\n",
    "\n",
    "# Score both\n",
    "pos_score = score_sentence(pos_sentence)\n",
    "neg_score = score_sentence(neg_sentence)\n",
    "\n",
    "print(f\"Positive score: {pos_score:.4f}\")\n",
    "print(f\"Negative score: {neg_score:.4f}\")"
   ]
  },
  {
   "cell_type": "markdown",
   "metadata": {
    "id": "7rmuS3JnVHK_"
   },
   "source": [
    "using bert alone, with a basic loss function and no training shows that the model is not attuned enough to this type of task and the difference between positive (indicating that the triple is correct) and negative (triple is incorrect) scores is too mild for it to be acceptable. Therefore some steps need to be taken in order to make it better\n"
   ]
  },
  {
   "cell_type": "markdown",
   "metadata": {
    "id": "u3XeebcOVHLB"
   },
   "source": [
    "- build a dataset which contains the triples labelled (corrupted or not)\n"
   ]
  },
  {
   "cell_type": "code",
   "execution_count": 18,
   "metadata": {
    "execution": {
     "iopub.execute_input": "2025-08-18T16:49:03.811126Z",
     "iopub.status.busy": "2025-08-18T16:49:03.810898Z",
     "iopub.status.idle": "2025-08-18T16:49:03.816124Z",
     "shell.execute_reply": "2025-08-18T16:49:03.815608Z",
     "shell.execute_reply.started": "2025-08-18T16:49:03.811108Z"
    },
    "id": "jbkqjPsyVHLB",
    "trusted": true
   },
   "outputs": [
    {
     "data": {
      "text/plain": [
       "10000"
      ]
     },
     "execution_count": 18,
     "metadata": {},
     "output_type": "execute_result"
    }
   ],
   "source": [
    "# check that the lenght of the triples is correct\n",
    "len(train_triples)"
   ]
  },
  {
   "cell_type": "code",
   "execution_count": 19,
   "metadata": {
    "execution": {
     "iopub.execute_input": "2025-08-18T16:49:03.817219Z",
     "iopub.status.busy": "2025-08-18T16:49:03.817014Z",
     "iopub.status.idle": "2025-08-18T16:49:03.835476Z",
     "shell.execute_reply": "2025-08-18T16:49:03.834631Z",
     "shell.execute_reply.started": "2025-08-18T16:49:03.817204Z"
    },
    "id": "FvLcYO7sVHLB",
    "trusted": true
   },
   "outputs": [
    {
     "data": {
      "text/plain": [
       "{'head': '/m/027rn',\n",
       " 'relation': '/location/country/form_of_government',\n",
       " 'tail': '/m/06cx9'}"
      ]
     },
     "execution_count": 19,
     "metadata": {},
     "output_type": "execute_result"
    }
   ],
   "source": [
    "train_triples[0]"
   ]
  },
  {
   "cell_type": "markdown",
   "metadata": {
    "id": "PgnuSfGY_c8O"
   },
   "source": [
    "Since we are using modernbert, the entities and relations need to make sense to be able to use its pretraining"
   ]
  },
  {
   "cell_type": "markdown",
   "metadata": {},
   "source": [
    "The following function is used to generate corrupted (negative) triples for training. It randomly replaces either the head or the tail entity of a given triple with a different entity from the dataset."
   ]
  },
  {
   "cell_type": "code",
   "execution_count": 20,
   "metadata": {
    "execution": {
     "iopub.execute_input": "2025-08-18T16:49:03.836337Z",
     "iopub.status.busy": "2025-08-18T16:49:03.836063Z",
     "iopub.status.idle": "2025-08-18T16:49:03.852467Z",
     "shell.execute_reply": "2025-08-18T16:49:03.851758Z",
     "shell.execute_reply.started": "2025-08-18T16:49:03.836313Z"
    },
    "id": "GwsY2sPjVHLC",
    "trusted": true
   },
   "outputs": [],
   "source": [
    "import random\n",
    "\n",
    "# corrupt either the head or the tail\n",
    "def corrupt_triple2(triple, entity_list):\n",
    "    h, r, t = triple['head'], triple['relation'], triple['tail']\n",
    "    if random.random() < 0.5:\n",
    "        corrupted = (random.choice(entity_list), r, t)\n",
    "    else:\n",
    "        corrupted = (h, r, random.choice(entity_list))\n",
    "    return corrupted"
   ]
  },
  {
   "cell_type": "markdown",
   "metadata": {},
   "source": [
    "The following code snipped instead creates the data which will be used in training, testing and validation. First it creates a positive example simply taking head, relation and tail from the dataset, transforming it into a sentence and labelling it with 1. In the second case, instead, the triple is first corrupted, then transformed into a sentence and labelled 0. This creates a binary classification task. "
   ]
  },
  {
   "cell_type": "code",
   "execution_count": 21,
   "metadata": {
    "execution": {
     "iopub.execute_input": "2025-08-18T16:49:03.853396Z",
     "iopub.status.busy": "2025-08-18T16:49:03.853168Z",
     "iopub.status.idle": "2025-08-18T16:49:04.347099Z",
     "shell.execute_reply": "2025-08-18T16:49:04.346395Z",
     "shell.execute_reply.started": "2025-08-18T16:49:03.853372Z"
    },
    "id": "77Z3QDC2NNGW",
    "trusted": true
   },
   "outputs": [],
   "source": [
    "def make_labeled_data(triples, all_entities, corrupt_fn, entity_map, relation_map):\n",
    "    data = []\n",
    "    for triple in triples:\n",
    "        h, r, t = triple[\"head\"], triple[\"relation\"], triple[\"tail\"]\n",
    "        pos_sentence = triple_to_sentence(h, r, t, entity_map, relation_map)\n",
    "        data.append((pos_sentence, 1))\n",
    "\n",
    "        ch, cr, ct = corrupt_fn(triple, all_entities)\n",
    "        neg_sentence = triple_to_sentence(ch, cr, ct, entity_map, relation_map)\n",
    "        data.append((neg_sentence, 0))\n",
    "    return data\n",
    "\n",
    "# create the proper data to train, validate and test the model\n",
    "# each is going to contain double the data they start with as for every triple we have a positive and a negative\n",
    "train_data = make_labeled_data(train_triples, all_entities, corrupt_triple2, entity_map, relation_map)\n",
    "val_data = make_labeled_data(valid_triples, all_entities, corrupt_triple2, entity_map, relation_map)\n",
    "test_data = make_labeled_data(test_triples, all_entities, corrupt_triple2, entity_map, relation_map)\n"
   ]
  },
  {
   "cell_type": "markdown",
   "metadata": {},
   "source": [
    "The following function tokenizes each sentence using the pretrained tokenizer with padding/truncation (max_length=32) and attaches the label."
   ]
  },
  {
   "cell_type": "code",
   "execution_count": 22,
   "metadata": {
    "execution": {
     "iopub.execute_input": "2025-08-18T16:49:04.348199Z",
     "iopub.status.busy": "2025-08-18T16:49:04.347966Z",
     "iopub.status.idle": "2025-08-18T16:49:10.935298Z",
     "shell.execute_reply": "2025-08-18T16:49:10.934690Z",
     "shell.execute_reply.started": "2025-08-18T16:49:04.348183Z"
    },
    "id": "4ItAw1zIN1WN",
    "trusted": true
   },
   "outputs": [],
   "source": [
    "# tokenize the data\n",
    "def tokenize_data(data):\n",
    "    tokenized = []\n",
    "    for sentence, label in data:\n",
    "        encoded = tokenizer(sentence, truncation=True, padding='max_length', max_length=32, return_tensors='pt')\n",
    "        tokenized.append({\n",
    "            \"input_ids\": encoded[\"input_ids\"].squeeze(0),\n",
    "            \"attention_mask\": encoded[\"attention_mask\"].squeeze(0),\n",
    "            \"label\": torch.tensor(label, dtype=torch.float)\n",
    "        })\n",
    "    return tokenized\n",
    "\n",
    "train_tokenized = tokenize_data(train_data)\n",
    "val_tokenized = tokenize_data(val_data)\n",
    "test_tokenized = tokenize_data(test_data)\n"
   ]
  },
  {
   "cell_type": "markdown",
   "metadata": {
    "id": "RBrybpziVHLC"
   },
   "source": [
    "- create a torch dataset"
   ]
  },
  {
   "cell_type": "code",
   "execution_count": 23,
   "metadata": {
    "execution": {
     "iopub.execute_input": "2025-08-18T16:49:10.936238Z",
     "iopub.status.busy": "2025-08-18T16:49:10.936009Z",
     "iopub.status.idle": "2025-08-18T16:49:11.218560Z",
     "shell.execute_reply": "2025-08-18T16:49:11.217749Z",
     "shell.execute_reply.started": "2025-08-18T16:49:10.936221Z"
    },
    "id": "okh6jaz4VHLC",
    "trusted": true
   },
   "outputs": [],
   "source": [
    "from transformers import AutoTokenizer\n",
    "tokenizer = AutoTokenizer.from_pretrained(\"answerdotai/ModernBERT-base\", trust_remote_code=True)"
   ]
  },
  {
   "cell_type": "markdown",
   "metadata": {},
   "source": [
    "The function below is a custom collate function. Basically, when using a DataLoader, each batch is created by combining individual examples from your dataset. The collate_fn function defines how this combination should happen."
   ]
  },
  {
   "cell_type": "code",
   "execution_count": 24,
   "metadata": {
    "execution": {
     "iopub.execute_input": "2025-08-18T16:49:11.221056Z",
     "iopub.status.busy": "2025-08-18T16:49:11.220836Z",
     "iopub.status.idle": "2025-08-18T16:49:11.225522Z",
     "shell.execute_reply": "2025-08-18T16:49:11.224880Z",
     "shell.execute_reply.started": "2025-08-18T16:49:11.221038Z"
    },
    "id": "GioRlm1baQDB",
    "trusted": true
   },
   "outputs": [],
   "source": [
    "def collate_fn(batch):\n",
    "    return {\n",
    "        \"input_ids\": torch.stack([item[\"input_ids\"] for item in batch]),\n",
    "        \"attention_mask\": torch.stack([item[\"attention_mask\"] for item in batch]),\n",
    "        \"label\": torch.stack([item[\"label\"] for item in batch])\n",
    "    }"
   ]
  },
  {
   "cell_type": "code",
   "execution_count": 25,
   "metadata": {
    "execution": {
     "iopub.execute_input": "2025-08-18T16:49:11.226482Z",
     "iopub.status.busy": "2025-08-18T16:49:11.226255Z",
     "iopub.status.idle": "2025-08-18T16:49:11.242777Z",
     "shell.execute_reply": "2025-08-18T16:49:11.242249Z",
     "shell.execute_reply.started": "2025-08-18T16:49:11.226465Z"
    },
    "id": "8kMWsYbKRWA_",
    "trusted": true
   },
   "outputs": [],
   "source": [
    "from torch.utils.data import Dataset, DataLoader\n",
    "\n",
    "class PreTokenizedDataset(Dataset):\n",
    "    def __init__(self, examples):\n",
    "        self.examples = examples\n",
    "\n",
    "    def __len__(self):\n",
    "        return len(self.examples)\n",
    "\n",
    "    def __getitem__(self, idx):\n",
    "        return self.examples[idx]\n",
    "\n",
    "train_loader = DataLoader(PreTokenizedDataset(train_tokenized), batch_size=32, shuffle=True, collate_fn=collate_fn)\n",
    "val_loader = DataLoader(PreTokenizedDataset(val_tokenized), batch_size=32, collate_fn=collate_fn)\n",
    "test_loader = DataLoader(PreTokenizedDataset(test_tokenized), batch_size=32, collate_fn=collate_fn)\n",
    "\n"
   ]
  },
  {
   "cell_type": "markdown",
   "metadata": {},
   "source": [
    "The pre-tokenization of the dataset is also done to speed up the process of training. "
   ]
  },
  {
   "cell_type": "markdown",
   "metadata": {
    "id": "_4YZAiCbVHLC"
   },
   "source": [
    "- add classification head"
   ]
  },
  {
   "cell_type": "code",
   "execution_count": 26,
   "metadata": {
    "execution": {
     "iopub.execute_input": "2025-08-18T16:49:11.243707Z",
     "iopub.status.busy": "2025-08-18T16:49:11.243429Z",
     "iopub.status.idle": "2025-08-18T16:49:11.265445Z",
     "shell.execute_reply": "2025-08-18T16:49:11.264887Z",
     "shell.execute_reply.started": "2025-08-18T16:49:11.243685Z"
    },
    "id": "Q1Efus2DVHLC",
    "trusted": true
   },
   "outputs": [],
   "source": [
    "import torch.nn as nn\n",
    "from transformers import AutoModel\n",
    "\n",
    "class TripleClassifier(nn.Module):\n",
    "    def __init__(self, base_model):\n",
    "        super().__init__()\n",
    "        self.encoder = base_model\n",
    "        self.classifier = nn.Linear(base_model.config.hidden_size, 1)\n",
    "\n",
    "    def forward(self, input_ids, attention_mask):\n",
    "        outputs = self.encoder(input_ids=input_ids, attention_mask=attention_mask)\n",
    "        cls = outputs.last_hidden_state[:, 0, :]\n",
    "        logits = self.classifier(cls).squeeze(-1)\n",
    "        return logits\n",
    "\n"
   ]
  },
  {
   "cell_type": "code",
   "execution_count": 27,
   "metadata": {
    "execution": {
     "iopub.execute_input": "2025-08-18T16:49:11.266366Z",
     "iopub.status.busy": "2025-08-18T16:49:11.266088Z",
     "iopub.status.idle": "2025-08-18T16:49:11.942716Z",
     "shell.execute_reply": "2025-08-18T16:49:11.941960Z",
     "shell.execute_reply.started": "2025-08-18T16:49:11.266341Z"
    },
    "id": "gUaoujLYVHLD",
    "trusted": true
   },
   "outputs": [
    {
     "name": "stdout",
     "output_type": "stream",
     "text": [
      "cuda:0\n"
     ]
    }
   ],
   "source": [
    "# check where the code is running\n",
    "device = torch.device(\"cuda\" if torch.cuda.is_available() else \"cpu\")\n",
    "\n",
    "# load the model\n",
    "base_model = AutoModel.from_pretrained(\"answerdotai/ModernBERT-base\", trust_remote_code=True)\n",
    "model = TripleClassifier(base_model)\n",
    "model.to(device)\n",
    "print(next(model.parameters()).device)"
   ]
  },
  {
   "cell_type": "markdown",
   "metadata": {
    "id": "JNTFKKZlVHLD"
   },
   "source": [
    "- train the model"
   ]
  },
  {
   "cell_type": "markdown",
   "metadata": {},
   "source": [
    "The chosen learning rate was proved to be commonly used when dealing with pretrained language models. \n",
    "\n",
    "The loss is also common in binary classification tasks. "
   ]
  },
  {
   "cell_type": "code",
   "execution_count": 28,
   "metadata": {
    "execution": {
     "iopub.execute_input": "2025-08-18T16:49:11.947560Z",
     "iopub.status.busy": "2025-08-18T16:49:11.947347Z",
     "iopub.status.idle": "2025-08-18T16:49:11.956134Z",
     "shell.execute_reply": "2025-08-18T16:49:11.955524Z",
     "shell.execute_reply.started": "2025-08-18T16:49:11.947544Z"
    },
    "id": "CvrTTxEoVHLD",
    "trusted": true
   },
   "outputs": [
    {
     "data": {
      "text/plain": [
       "TripleClassifier(\n",
       "  (encoder): ModernBertModel(\n",
       "    (embeddings): ModernBertEmbeddings(\n",
       "      (tok_embeddings): Embedding(50368, 768, padding_idx=50283)\n",
       "      (norm): LayerNorm((768,), eps=1e-05, elementwise_affine=True)\n",
       "      (drop): Dropout(p=0.0, inplace=False)\n",
       "    )\n",
       "    (layers): ModuleList(\n",
       "      (0): ModernBertEncoderLayer(\n",
       "        (attn_norm): Identity()\n",
       "        (attn): ModernBertAttention(\n",
       "          (Wqkv): Linear(in_features=768, out_features=2304, bias=False)\n",
       "          (rotary_emb): ModernBertRotaryEmbedding()\n",
       "          (Wo): Linear(in_features=768, out_features=768, bias=False)\n",
       "          (out_drop): Identity()\n",
       "        )\n",
       "        (mlp_norm): LayerNorm((768,), eps=1e-05, elementwise_affine=True)\n",
       "        (mlp): ModernBertMLP(\n",
       "          (Wi): Linear(in_features=768, out_features=2304, bias=False)\n",
       "          (act): GELUActivation()\n",
       "          (drop): Dropout(p=0.0, inplace=False)\n",
       "          (Wo): Linear(in_features=1152, out_features=768, bias=False)\n",
       "        )\n",
       "      )\n",
       "      (1-21): 21 x ModernBertEncoderLayer(\n",
       "        (attn_norm): LayerNorm((768,), eps=1e-05, elementwise_affine=True)\n",
       "        (attn): ModernBertAttention(\n",
       "          (Wqkv): Linear(in_features=768, out_features=2304, bias=False)\n",
       "          (rotary_emb): ModernBertRotaryEmbedding()\n",
       "          (Wo): Linear(in_features=768, out_features=768, bias=False)\n",
       "          (out_drop): Identity()\n",
       "        )\n",
       "        (mlp_norm): LayerNorm((768,), eps=1e-05, elementwise_affine=True)\n",
       "        (mlp): ModernBertMLP(\n",
       "          (Wi): Linear(in_features=768, out_features=2304, bias=False)\n",
       "          (act): GELUActivation()\n",
       "          (drop): Dropout(p=0.0, inplace=False)\n",
       "          (Wo): Linear(in_features=1152, out_features=768, bias=False)\n",
       "        )\n",
       "      )\n",
       "    )\n",
       "    (final_norm): LayerNorm((768,), eps=1e-05, elementwise_affine=True)\n",
       "  )\n",
       "  (classifier): Linear(in_features=768, out_features=1, bias=True)\n",
       ")"
      ]
     },
     "execution_count": 28,
     "metadata": {},
     "output_type": "execute_result"
    }
   ],
   "source": [
    "optimizer = torch.optim.Adam(model.parameters(), lr=2e-5)\n",
    "criterion = nn.BCEWithLogitsLoss()\n",
    "model.train()"
   ]
  },
  {
   "cell_type": "markdown",
   "metadata": {
    "id": "nVrokifCVHLD"
   },
   "source": [
    "- this is not good, let us try to use train and validation"
   ]
  },
  {
   "cell_type": "code",
   "execution_count": 29,
   "metadata": {
    "execution": {
     "iopub.execute_input": "2025-08-18T16:49:11.957072Z",
     "iopub.status.busy": "2025-08-18T16:49:11.956821Z",
     "iopub.status.idle": "2025-08-18T16:49:11.973894Z",
     "shell.execute_reply": "2025-08-18T16:49:11.973198Z",
     "shell.execute_reply.started": "2025-08-18T16:49:11.957055Z"
    },
    "id": "bjwXCsHZR50h",
    "trusted": true
   },
   "outputs": [],
   "source": [
    "# device = torch.device(\"cuda\" if torch.cuda.is_available() else \"cpu\")\n",
    "# model.to(device)\n",
    "\n",
    "# optimizer = torch.optim.Adam(model.parameters(), lr=2e-1)\n",
    "# criterion = nn.BCEWithLogitsLoss()"
   ]
  },
  {
   "cell_type": "code",
   "execution_count": 30,
   "metadata": {
    "execution": {
     "iopub.execute_input": "2025-08-18T16:49:11.974960Z",
     "iopub.status.busy": "2025-08-18T16:49:11.974698Z",
     "iopub.status.idle": "2025-08-18T16:49:11.991696Z",
     "shell.execute_reply": "2025-08-18T16:49:11.991204Z",
     "shell.execute_reply.started": "2025-08-18T16:49:11.974943Z"
    },
    "id": "WL3bw94vRxtr",
    "trusted": true
   },
   "outputs": [],
   "source": [
    "def evaluate(model, dataloader, criterion):\n",
    "    model.eval()\n",
    "    total_loss = 0\n",
    "    total_correct = 0\n",
    "    total_examples = 0\n",
    "\n",
    "    with torch.no_grad():\n",
    "        for batch in dataloader:\n",
    "            input_ids = batch[\"input_ids\"].to(device)\n",
    "            attention_mask = batch[\"attention_mask\"].to(device)\n",
    "            labels = batch[\"label\"].to(device)\n",
    "\n",
    "            logits = model(input_ids=input_ids, attention_mask=attention_mask)\n",
    "            loss = criterion(logits, labels)\n",
    "            total_loss += loss.item()\n",
    "\n",
    "            probs = torch.sigmoid(logits)\n",
    "            preds = (probs > 0.5).float()\n",
    "            total_correct += (preds == labels).sum().item()\n",
    "            total_examples += labels.size(0)\n",
    "\n",
    "    model.train()\n",
    "    accuracy = total_correct / total_examples\n",
    "    avg_loss = total_loss / len(dataloader)\n",
    "    return avg_loss, accuracy\n"
   ]
  },
  {
   "cell_type": "code",
   "execution_count": 31,
   "metadata": {
    "execution": {
     "iopub.execute_input": "2025-08-18T16:49:11.992617Z",
     "iopub.status.busy": "2025-08-18T16:49:11.992390Z",
     "iopub.status.idle": "2025-08-18T16:49:12.021998Z",
     "shell.execute_reply": "2025-08-18T16:49:12.021446Z",
     "shell.execute_reply.started": "2025-08-18T16:49:11.992592Z"
    },
    "id": "LW9jo8U_cNqq",
    "trusted": true
   },
   "outputs": [
    {
     "name": "stdout",
     "output_type": "stream",
     "text": [
      "cpu\n"
     ]
    }
   ],
   "source": [
    "print(next(iter(train_loader))[\"input_ids\"].device)"
   ]
  },
  {
   "cell_type": "code",
   "execution_count": 32,
   "metadata": {
    "execution": {
     "iopub.execute_input": "2025-08-18T16:49:12.022936Z",
     "iopub.status.busy": "2025-08-18T16:49:12.022637Z",
     "iopub.status.idle": "2025-08-18T16:49:12.035551Z",
     "shell.execute_reply": "2025-08-18T16:49:12.035032Z",
     "shell.execute_reply.started": "2025-08-18T16:49:12.022915Z"
    },
    "trusted": true
   },
   "outputs": [],
   "source": [
    "import torch._dynamo\n",
    "torch._dynamo.config.suppress_errors = True"
   ]
  },
  {
   "cell_type": "markdown",
   "metadata": {},
   "source": [
    "- training loop "
   ]
  },
  {
   "cell_type": "code",
   "execution_count": 33,
   "metadata": {
    "execution": {
     "iopub.execute_input": "2025-08-18T16:49:12.036516Z",
     "iopub.status.busy": "2025-08-18T16:49:12.036306Z",
     "iopub.status.idle": "2025-08-18T17:04:22.323591Z",
     "shell.execute_reply": "2025-08-18T17:04:22.322797Z",
     "shell.execute_reply.started": "2025-08-18T16:49:12.036493Z"
    },
    "id": "qkUH4B3ZRyVb",
    "trusted": true
   },
   "outputs": [
    {
     "name": "stderr",
     "output_type": "stream",
     "text": [
      "W0818 16:49:21.839000 36 torch/_inductor/utils.py:1137] [1/0] Not enough SMs to use max_autotune_gemm mode\n"
     ]
    },
    {
     "name": "stdout",
     "output_type": "stream",
     "text": [
      "Epoch 1 | Train Loss: 0.5104 | Train Acc: 0.7263 | Val Loss: 0.3175 | Val Acc: 0.8740\n",
      "Epoch 2 | Train Loss: 0.2934 | Train Acc: 0.8827 | Val Loss: 0.2815 | Val Acc: 0.8910\n",
      "Epoch 3 | Train Loss: 0.2223 | Train Acc: 0.9138 | Val Loss: 0.2953 | Val Acc: 0.8898\n",
      "Epoch 4 | Train Loss: 0.1760 | Train Acc: 0.9330 | Val Loss: 0.3367 | Val Acc: 0.8842\n",
      "Epoch 5 | Train Loss: 0.1228 | Train Acc: 0.9544 | Val Loss: 0.3701 | Val Acc: 0.8730\n"
     ]
    }
   ],
   "source": [
    "for epoch in range(5):\n",
    "    total_train_loss = 0\n",
    "    total_train_correct = 0\n",
    "    total_train_examples = 0\n",
    "    model.train()\n",
    "\n",
    "    for batch in train_loader:\n",
    "        input_ids = batch[\"input_ids\"].to(device)\n",
    "        attention_mask = batch[\"attention_mask\"].to(device)\n",
    "        labels = batch[\"label\"].to(device)\n",
    "\n",
    "        logits = model(input_ids=input_ids, attention_mask=attention_mask)\n",
    "        loss = criterion(logits, labels)\n",
    "\n",
    "        loss.backward()\n",
    "        optimizer.step()\n",
    "        optimizer.zero_grad()\n",
    "\n",
    "        total_train_loss += loss.item()\n",
    "        probs = torch.sigmoid(logits)\n",
    "        preds = (probs > 0.5).float()\n",
    "        total_train_correct += (preds == labels).sum().item()\n",
    "        total_train_examples += labels.size(0)\n",
    "\n",
    "    avg_train_loss = total_train_loss / len(train_loader)\n",
    "    train_acc = total_train_correct / total_train_examples\n",
    "\n",
    "    avg_val_loss, val_acc = evaluate(model, val_loader, criterion)\n",
    "\n",
    "    print(f\"Epoch {epoch+1} | Train Loss: {avg_train_loss:.4f} | Train Acc: {train_acc:.4f} | Val Loss: {avg_val_loss:.4f} | Val Acc: {val_acc:.4f}\")\n"
   ]
  },
  {
   "cell_type": "markdown",
   "metadata": {},
   "source": [
    "What was found is that since the model performs quite well a small amount of epochs is enough to reach good results. Other strategies were tried at the beginning, before figuring out the correct approach to the problem, which involved experimentations with more epochs, with different criteria and learning rates, but they were all unnecessary when the correct data was passed to the model. A simpler approach proved to be the best"
   ]
  },
  {
   "cell_type": "code",
   "execution_count": 34,
   "metadata": {
    "execution": {
     "iopub.execute_input": "2025-08-18T17:04:22.325132Z",
     "iopub.status.busy": "2025-08-18T17:04:22.324376Z",
     "iopub.status.idle": "2025-08-18T17:04:32.534707Z",
     "shell.execute_reply": "2025-08-18T17:04:32.534091Z",
     "shell.execute_reply.started": "2025-08-18T17:04:22.325111Z"
    },
    "id": "vx_sdLTZR8qF",
    "trusted": true
   },
   "outputs": [
    {
     "name": "stdout",
     "output_type": "stream",
     "text": [
      "Test Loss: 0.3629 | Test Accuracy: 0.8792\n"
     ]
    }
   ],
   "source": [
    "test_loss, test_acc = evaluate(model, test_loader, criterion)\n",
    "print(f\"Test Loss: {test_loss:.4f} | Test Accuracy: {test_acc:.4f}\")\n"
   ]
  },
  {
   "cell_type": "code",
   "execution_count": 35,
   "metadata": {
    "execution": {
     "iopub.execute_input": "2025-08-18T17:04:32.535875Z",
     "iopub.status.busy": "2025-08-18T17:04:32.535605Z",
     "iopub.status.idle": "2025-08-18T17:04:42.743584Z",
     "shell.execute_reply": "2025-08-18T17:04:42.742965Z",
     "shell.execute_reply.started": "2025-08-18T17:04:32.535849Z"
    },
    "id": "sPKoC0Tv6-jE",
    "trusted": true
   },
   "outputs": [],
   "source": [
    "from sklearn.metrics import classification_report, roc_auc_score, roc_curve\n",
    "import matplotlib.pyplot as plt\n",
    "import torch.nn.functional as F\n",
    "\n",
    "model.eval()\n",
    "all_labels = []\n",
    "all_preds = []\n",
    "all_probs = []\n",
    "\n",
    "with torch.no_grad():\n",
    "    for batch in test_loader:\n",
    "        input_ids = batch[\"input_ids\"].to(device)\n",
    "        attention_mask = batch[\"attention_mask\"].to(device)\n",
    "        labels = batch[\"label\"].to(device)\n",
    "\n",
    "        logits = model(input_ids=input_ids, attention_mask=attention_mask)\n",
    "        probs = torch.sigmoid(logits)\n",
    "\n",
    "        all_labels.extend(labels.cpu().numpy())\n",
    "        all_probs.extend(probs.cpu().numpy())\n",
    "        all_preds.extend((probs > 0.5).float().cpu().numpy())\n"
   ]
  },
  {
   "cell_type": "code",
   "execution_count": 36,
   "metadata": {
    "execution": {
     "iopub.execute_input": "2025-08-18T17:04:42.744681Z",
     "iopub.status.busy": "2025-08-18T17:04:42.744444Z",
     "iopub.status.idle": "2025-08-18T17:04:42.770393Z",
     "shell.execute_reply": "2025-08-18T17:04:42.769649Z",
     "shell.execute_reply.started": "2025-08-18T17:04:42.744664Z"
    },
    "id": "C8Gjra8a7Euw",
    "trusted": true
   },
   "outputs": [
    {
     "name": "stdout",
     "output_type": "stream",
     "text": [
      "              precision    recall  f1-score   support\n",
      "\n",
      "         0.0     0.9297    0.8205    0.8717      2000\n",
      "         1.0     0.8394    0.9380    0.8860      2000\n",
      "\n",
      "    accuracy                         0.8793      4000\n",
      "   macro avg     0.8846    0.8792    0.8788      4000\n",
      "weighted avg     0.8846    0.8792    0.8788      4000\n",
      "\n"
     ]
    }
   ],
   "source": [
    "from sklearn.metrics import classification_report\n",
    "\n",
    "print(classification_report(all_labels, all_preds, digits=4))"
   ]
  },
  {
   "cell_type": "code",
   "execution_count": 37,
   "metadata": {
    "execution": {
     "iopub.execute_input": "2025-08-18T17:04:42.771459Z",
     "iopub.status.busy": "2025-08-18T17:04:42.771183Z",
     "iopub.status.idle": "2025-08-18T17:04:42.793920Z",
     "shell.execute_reply": "2025-08-18T17:04:42.793331Z",
     "shell.execute_reply.started": "2025-08-18T17:04:42.771430Z"
    },
    "id": "qynQF6fE7Lia",
    "trusted": true
   },
   "outputs": [
    {
     "name": "stdout",
     "output_type": "stream",
     "text": [
      "ROC AUC: 0.9313\n"
     ]
    }
   ],
   "source": [
    "from sklearn.metrics import roc_auc_score\n",
    "\n",
    "auc = roc_auc_score(all_labels, all_probs)\n",
    "print(f\"ROC AUC: {auc:.4f}\")"
   ]
  },
  {
   "cell_type": "code",
   "execution_count": 38,
   "metadata": {
    "execution": {
     "iopub.execute_input": "2025-08-18T17:04:42.794890Z",
     "iopub.status.busy": "2025-08-18T17:04:42.794657Z",
     "iopub.status.idle": "2025-08-18T17:04:43.220705Z",
     "shell.execute_reply": "2025-08-18T17:04:43.219962Z",
     "shell.execute_reply.started": "2025-08-18T17:04:42.794873Z"
    },
    "id": "u369O9MY7Mq0",
    "trusted": true
   },
   "outputs": [
    {
     "data": {
      "image/png": "[encoded data removed]",
      "text/plain": [
       "<Figure size 800x600 with 1 Axes>"
      ]
     },
     "metadata": {},
     "output_type": "display_data"
    }
   ],
   "source": [
    "fpr, tpr, thresholds = roc_curve(all_labels, all_probs)\n",
    "\n",
    "plt.figure(figsize=(8,6))\n",
    "plt.plot(fpr, tpr, label=f\"ROC Curve (AUC = {auc:.4f})\")\n",
    "plt.plot([0, 1], [0, 1], linestyle=\"--\", color=\"gray\")\n",
    "plt.xlabel(\"False Positive Rate\")\n",
    "plt.ylabel(\"True Positive Rate\")\n",
    "plt.title(\"ROC Curve\")\n",
    "plt.legend()\n",
    "plt.grid(True)\n",
    "plt.show()\n"
   ]
  },
  {
   "cell_type": "markdown",
   "metadata": {
    "id": "ATHxlGZ-7dpL"
   },
   "source": [
    "**Analysis of results**:\n",
    "\n",
    "The results are good, indicating that the experiments was successful. \n",
    "\n",
    "Still, if we want to underline the negative sides, some could argue that accuracy and roc score are quite high, which might be a sign that something is not working correctly. Still, my interpretation of the results is the following:\n",
    "\n",
    "*   Having corrupted relations instead of proper negative ones makes for an easier task to complete for the model, which means that we would generally expect a higher test accuracy\n",
    "* Having well-formed inputs with BERT encoders (like we have here with the mapping of entities and relations) takes advantage of the pretraining, and therefore makes the task easier\n",
    "*   The patterns of positive and negative examples are fairly similar, meaning that the model learns in a much smoother way\n",
    "\n"
   ]
  },
  {
   "cell_type": "code",
   "execution_count": 39,
   "metadata": {
    "execution": {
     "iopub.execute_input": "2025-08-18T17:04:43.222047Z",
     "iopub.status.busy": "2025-08-18T17:04:43.221707Z",
     "iopub.status.idle": "2025-08-18T17:04:43.427585Z",
     "shell.execute_reply": "2025-08-18T17:04:43.426878Z",
     "shell.execute_reply.started": "2025-08-18T17:04:43.222022Z"
    },
    "id": "e_cMn3nDD7vp",
    "trusted": true
   },
   "outputs": [
    {
     "data": {
      "image/png": "[encoded data removed]",
      "text/plain": [
       "<Figure size 640x480 with 2 Axes>"
      ]
     },
     "metadata": {},
     "output_type": "display_data"
    }
   ],
   "source": [
    "from sklearn.metrics import confusion_matrix, ConfusionMatrixDisplay\n",
    "\n",
    "cm = confusion_matrix(all_labels, all_preds)\n",
    "disp = ConfusionMatrixDisplay(confusion_matrix=cm)\n",
    "disp.plot()\n",
    "plt.show()"
   ]
  },
  {
   "cell_type": "markdown",
   "metadata": {},
   "source": [
    "**Experiments**\n",
    "\n",
    "In the following section I would like to show further experimentations which might be useful. \n",
    "\n",
    "First thing first, I would like to show how, if the relations are not mapped to the human readable text, the model struggles a lot. This is because of the fact that ModernBERT is pretrained on text, meaning that if the text is gibberish or contains only ids, like in this case, the training cannot take advantage of the pretraining of the model itself. "
   ]
  },
  {
   "cell_type": "code",
   "execution_count": 40,
   "metadata": {
    "execution": {
     "iopub.execute_input": "2025-08-18T17:04:43.428701Z",
     "iopub.status.busy": "2025-08-18T17:04:43.428433Z",
     "iopub.status.idle": "2025-08-18T17:04:44.309327Z",
     "shell.execute_reply": "2025-08-18T17:04:44.308516Z",
     "shell.execute_reply.started": "2025-08-18T17:04:43.428683Z"
    },
    "id": "3X_gs6rsVHLF",
    "trusted": true
   },
   "outputs": [
    {
     "name": "stdout",
     "output_type": "stream",
     "text": [
      "{'head': '/m/027rn', 'relation': '/m/06cx9', 'tail': '/location/country/form_of_government'}\n"
     ]
    }
   ],
   "source": [
    "# reload dataset and fix the fact that tail and relation are inverted\n",
    "from datasets import load_dataset\n",
    "import tqdm as notebook_tqdm\n",
    "# FB15k-237 from HuggingFace\n",
    "dataset = load_dataset(\"VLyb/FB15k-237\")\n",
    "\n",
    "train_triples = dataset[\"train\"]\n",
    "test_triples = dataset[\"test\"]\n",
    "valid_triples = dataset[\"validation\"]\n",
    "print(train_triples[0])\n",
    "\n",
    "\n",
    "def fix_fields(example):\n",
    "    return {\n",
    "        \"head\": example[\"head\"],\n",
    "        \"relation\": example[\"tail\"],\n",
    "        \"tail\": example[\"relation\"]\n",
    "    }\n",
    "\n",
    "train_dataset = dataset[\"train\"].map(fix_fields)\n",
    "valid_dataset = dataset[\"validation\"].map(fix_fields)\n",
    "test_dataset  = dataset[\"test\"].map(fix_fields)"
   ]
  },
  {
   "cell_type": "code",
   "execution_count": 41,
   "metadata": {
    "execution": {
     "iopub.execute_input": "2025-08-18T17:04:44.310795Z",
     "iopub.status.busy": "2025-08-18T17:04:44.310501Z",
     "iopub.status.idle": "2025-08-18T17:04:44.319620Z",
     "shell.execute_reply": "2025-08-18T17:04:44.318884Z",
     "shell.execute_reply.started": "2025-08-18T17:04:44.310768Z"
    },
    "trusted": true
   },
   "outputs": [],
   "source": [
    "train_subset_size = 10000\n",
    "val_test_subset_size = 2000\n",
    "\n",
    "train_triples = train_dataset.select(range(train_subset_size))\n",
    "valid_triples = valid_dataset.select(range(val_test_subset_size))\n",
    "test_triples  = test_dataset.select(range(val_test_subset_size))"
   ]
  },
  {
   "cell_type": "code",
   "execution_count": 42,
   "metadata": {
    "execution": {
     "iopub.execute_input": "2025-08-18T17:04:44.320921Z",
     "iopub.status.busy": "2025-08-18T17:04:44.320412Z",
     "iopub.status.idle": "2025-08-18T17:04:44.337011Z",
     "shell.execute_reply": "2025-08-18T17:04:44.336443Z",
     "shell.execute_reply.started": "2025-08-18T17:04:44.320895Z"
    },
    "trusted": true
   },
   "outputs": [
    {
     "data": {
      "text/plain": [
       "'/m/027rn /location/country/form_of_government /m/06cx9.'"
      ]
     },
     "execution_count": 42,
     "metadata": {},
     "output_type": "execute_result"
    }
   ],
   "source": [
    "def triple_to_sentence_not_mapped(h, r, t):\n",
    "    return f\"{h} {r} {t}.\"\n",
    "\n",
    "h = train_triples[0]['head']\n",
    "r = train_triples[0]['relation']\n",
    "t = train_triples[0]['tail']\n",
    "sentence = triple_to_sentence_not_mapped(h, r, t)\n",
    "sentence"
   ]
  },
  {
   "cell_type": "code",
   "execution_count": 43,
   "metadata": {
    "execution": {
     "iopub.execute_input": "2025-08-18T17:04:44.337788Z",
     "iopub.status.busy": "2025-08-18T17:04:44.337571Z",
     "iopub.status.idle": "2025-08-18T17:04:44.736820Z",
     "shell.execute_reply": "2025-08-18T17:04:44.735987Z",
     "shell.execute_reply.started": "2025-08-18T17:04:44.337762Z"
    },
    "trusted": true
   },
   "outputs": [
    {
     "data": {
      "text/plain": [
       "ModernBertModel(\n",
       "  (embeddings): ModernBertEmbeddings(\n",
       "    (tok_embeddings): Embedding(50368, 768, padding_idx=50283)\n",
       "    (norm): LayerNorm((768,), eps=1e-05, elementwise_affine=True)\n",
       "    (drop): Dropout(p=0.0, inplace=False)\n",
       "  )\n",
       "  (layers): ModuleList(\n",
       "    (0): ModernBertEncoderLayer(\n",
       "      (attn_norm): Identity()\n",
       "      (attn): ModernBertAttention(\n",
       "        (Wqkv): Linear(in_features=768, out_features=2304, bias=False)\n",
       "        (rotary_emb): ModernBertRotaryEmbedding()\n",
       "        (Wo): Linear(in_features=768, out_features=768, bias=False)\n",
       "        (out_drop): Identity()\n",
       "      )\n",
       "      (mlp_norm): LayerNorm((768,), eps=1e-05, elementwise_affine=True)\n",
       "      (mlp): ModernBertMLP(\n",
       "        (Wi): Linear(in_features=768, out_features=2304, bias=False)\n",
       "        (act): GELUActivation()\n",
       "        (drop): Dropout(p=0.0, inplace=False)\n",
       "        (Wo): Linear(in_features=1152, out_features=768, bias=False)\n",
       "      )\n",
       "    )\n",
       "    (1-21): 21 x ModernBertEncoderLayer(\n",
       "      (attn_norm): LayerNorm((768,), eps=1e-05, elementwise_affine=True)\n",
       "      (attn): ModernBertAttention(\n",
       "        (Wqkv): Linear(in_features=768, out_features=2304, bias=False)\n",
       "        (rotary_emb): ModernBertRotaryEmbedding()\n",
       "        (Wo): Linear(in_features=768, out_features=768, bias=False)\n",
       "        (out_drop): Identity()\n",
       "      )\n",
       "      (mlp_norm): LayerNorm((768,), eps=1e-05, elementwise_affine=True)\n",
       "      (mlp): ModernBertMLP(\n",
       "        (Wi): Linear(in_features=768, out_features=2304, bias=False)\n",
       "        (act): GELUActivation()\n",
       "        (drop): Dropout(p=0.0, inplace=False)\n",
       "        (Wo): Linear(in_features=1152, out_features=768, bias=False)\n",
       "      )\n",
       "    )\n",
       "  )\n",
       "  (final_norm): LayerNorm((768,), eps=1e-05, elementwise_affine=True)\n",
       ")"
      ]
     },
     "execution_count": 43,
     "metadata": {},
     "output_type": "execute_result"
    }
   ],
   "source": [
    "from transformers import AutoTokenizer, AutoModel\n",
    "\n",
    "# load model and tokenizer -- ModernBERT\n",
    "tokenizer = AutoTokenizer.from_pretrained(\"answerdotai/ModernBERT-base\", trust_remote_code=True)\n",
    "model = AutoModel.from_pretrained(\"answerdotai/ModernBERT-base\", trust_remote_code=True)\n",
    "model.eval()"
   ]
  },
  {
   "cell_type": "code",
   "execution_count": 44,
   "metadata": {
    "execution": {
     "iopub.execute_input": "2025-08-18T17:04:44.737946Z",
     "iopub.status.busy": "2025-08-18T17:04:44.737665Z",
     "iopub.status.idle": "2025-08-18T17:04:45.687316Z",
     "shell.execute_reply": "2025-08-18T17:04:45.686725Z",
     "shell.execute_reply.started": "2025-08-18T17:04:44.737925Z"
    },
    "trusted": true
   },
   "outputs": [],
   "source": [
    "all_entities = set()\n",
    "\n",
    "for split in [train_triples, test_triples, valid_triples]:\n",
    "    for row in split:\n",
    "        all_entities.update([row[\"head\"], row[\"tail\"]])\n",
    "all_entities = list(all_entities)"
   ]
  },
  {
   "cell_type": "code",
   "execution_count": 45,
   "metadata": {
    "execution": {
     "iopub.execute_input": "2025-08-18T17:04:45.688164Z",
     "iopub.status.busy": "2025-08-18T17:04:45.687974Z",
     "iopub.status.idle": "2025-08-18T17:04:53.324632Z",
     "shell.execute_reply": "2025-08-18T17:04:53.323822Z",
     "shell.execute_reply.started": "2025-08-18T17:04:45.688150Z"
    },
    "trusted": true
   },
   "outputs": [],
   "source": [
    "def make_labeled_data_not_mapped(triples, all_entities, corrupt_fn):\n",
    "    data = []\n",
    "    for triple in triples:\n",
    "        h, r, t = triple[\"head\"], triple[\"relation\"], triple[\"tail\"]\n",
    "        pos_sentence = triple_to_sentence_not_mapped(h, r, t)\n",
    "        data.append((pos_sentence, 1))\n",
    "\n",
    "        ch, cr, ct = corrupt_fn(triple, all_entities)\n",
    "        neg_sentence = triple_to_sentence_not_mapped(ch, cr, ct)\n",
    "        data.append((neg_sentence, 0))\n",
    "    return data\n",
    "\n",
    "# create the proper data to train, validate and test the model\n",
    "# each is going to contain double the data they start with as for every triple we have a positive and a negative\n",
    "train_data_not_mapped = make_labeled_data_not_mapped(train_triples, all_entities, corrupt_triple2)\n",
    "val_data_not_mapped = make_labeled_data_not_mapped(valid_triples, all_entities, corrupt_triple2)\n",
    "test_data_not_mapped = make_labeled_data_not_mapped(test_triples, all_entities, corrupt_triple2)\n",
    "\n",
    "\n",
    "# tokenize the data using the function defined in the previous step as there is no difference here\n",
    "train_tokenized_not_mapped = tokenize_data(train_data_not_mapped)\n",
    "val_tokenized_not_mapped = tokenize_data(val_data_not_mapped)\n",
    "test_tokenized_not_mapped = tokenize_data(test_data_not_mapped)"
   ]
  },
  {
   "cell_type": "code",
   "execution_count": 46,
   "metadata": {
    "execution": {
     "iopub.execute_input": "2025-08-18T17:04:53.326120Z",
     "iopub.status.busy": "2025-08-18T17:04:53.325525Z",
     "iopub.status.idle": "2025-08-18T17:04:53.597461Z",
     "shell.execute_reply": "2025-08-18T17:04:53.596697Z",
     "shell.execute_reply.started": "2025-08-18T17:04:53.326079Z"
    },
    "trusted": true
   },
   "outputs": [],
   "source": [
    "from transformers import AutoTokenizer\n",
    "tokenizer = AutoTokenizer.from_pretrained(\"answerdotai/ModernBERT-base\", trust_remote_code=True)"
   ]
  },
  {
   "cell_type": "code",
   "execution_count": 47,
   "metadata": {
    "execution": {
     "iopub.execute_input": "2025-08-18T17:04:53.599690Z",
     "iopub.status.busy": "2025-08-18T17:04:53.599231Z",
     "iopub.status.idle": "2025-08-18T17:04:53.605504Z",
     "shell.execute_reply": "2025-08-18T17:04:53.604840Z",
     "shell.execute_reply.started": "2025-08-18T17:04:53.599671Z"
    },
    "trusted": true
   },
   "outputs": [],
   "source": [
    "from torch.utils.data import Dataset, DataLoader\n",
    "\n",
    "class PreTokenizedDataset(Dataset):\n",
    "    def __init__(self, examples):\n",
    "        self.examples = examples\n",
    "\n",
    "    def __len__(self):\n",
    "        return len(self.examples)\n",
    "\n",
    "    def __getitem__(self, idx):\n",
    "        return self.examples[idx]\n",
    "\n",
    "train_loader = DataLoader(PreTokenizedDataset(train_tokenized_not_mapped), batch_size=32, shuffle=True, collate_fn=collate_fn)\n",
    "val_loader = DataLoader(PreTokenizedDataset(val_tokenized_not_mapped), batch_size=32, collate_fn=collate_fn)\n",
    "test_loader = DataLoader(PreTokenizedDataset(test_tokenized_not_mapped), batch_size=32, collate_fn=collate_fn)"
   ]
  },
  {
   "cell_type": "code",
   "execution_count": 48,
   "metadata": {
    "execution": {
     "iopub.execute_input": "2025-08-18T17:04:53.606466Z",
     "iopub.status.busy": "2025-08-18T17:04:53.606218Z",
     "iopub.status.idle": "2025-08-18T17:04:53.637783Z",
     "shell.execute_reply": "2025-08-18T17:04:53.637142Z",
     "shell.execute_reply.started": "2025-08-18T17:04:53.606445Z"
    },
    "trusted": true
   },
   "outputs": [],
   "source": [
    "import torch.nn as nn\n",
    "from transformers import AutoModel\n",
    "\n",
    "class TripleClassifier(nn.Module):\n",
    "    def __init__(self, base_model):\n",
    "        super().__init__()\n",
    "        self.encoder = base_model\n",
    "        self.classifier = nn.Linear(base_model.config.hidden_size, 1)\n",
    "\n",
    "    def forward(self, input_ids, attention_mask):\n",
    "        outputs = self.encoder(input_ids=input_ids, attention_mask=attention_mask)\n",
    "        cls = outputs.last_hidden_state[:, 0, :]\n",
    "        logits = self.classifier(cls).squeeze(-1)\n",
    "        return logits\n"
   ]
  },
  {
   "cell_type": "code",
   "execution_count": 49,
   "metadata": {
    "execution": {
     "iopub.execute_input": "2025-08-18T17:04:53.638787Z",
     "iopub.status.busy": "2025-08-18T17:04:53.638577Z",
     "iopub.status.idle": "2025-08-18T17:04:54.042114Z",
     "shell.execute_reply": "2025-08-18T17:04:54.041335Z",
     "shell.execute_reply.started": "2025-08-18T17:04:53.638766Z"
    },
    "trusted": true
   },
   "outputs": [
    {
     "name": "stdout",
     "output_type": "stream",
     "text": [
      "cuda:0\n"
     ]
    }
   ],
   "source": [
    "device = torch.device(\"cuda\" if torch.cuda.is_available() else \"cpu\")\n",
    "\n",
    "base_model = AutoModel.from_pretrained(\"answerdotai/ModernBERT-base\", trust_remote_code=True)\n",
    "model = TripleClassifier(base_model)\n",
    "model.to(device)\n",
    "print(next(model.parameters()).device)"
   ]
  },
  {
   "cell_type": "code",
   "execution_count": 50,
   "metadata": {
    "execution": {
     "iopub.execute_input": "2025-08-18T17:04:54.043551Z",
     "iopub.status.busy": "2025-08-18T17:04:54.042984Z",
     "iopub.status.idle": "2025-08-18T17:04:54.052430Z",
     "shell.execute_reply": "2025-08-18T17:04:54.051677Z",
     "shell.execute_reply.started": "2025-08-18T17:04:54.043524Z"
    },
    "trusted": true
   },
   "outputs": [
    {
     "data": {
      "text/plain": [
       "TripleClassifier(\n",
       "  (encoder): ModernBertModel(\n",
       "    (embeddings): ModernBertEmbeddings(\n",
       "      (tok_embeddings): Embedding(50368, 768, padding_idx=50283)\n",
       "      (norm): LayerNorm((768,), eps=1e-05, elementwise_affine=True)\n",
       "      (drop): Dropout(p=0.0, inplace=False)\n",
       "    )\n",
       "    (layers): ModuleList(\n",
       "      (0): ModernBertEncoderLayer(\n",
       "        (attn_norm): Identity()\n",
       "        (attn): ModernBertAttention(\n",
       "          (Wqkv): Linear(in_features=768, out_features=2304, bias=False)\n",
       "          (rotary_emb): ModernBertRotaryEmbedding()\n",
       "          (Wo): Linear(in_features=768, out_features=768, bias=False)\n",
       "          (out_drop): Identity()\n",
       "        )\n",
       "        (mlp_norm): LayerNorm((768,), eps=1e-05, elementwise_affine=True)\n",
       "        (mlp): ModernBertMLP(\n",
       "          (Wi): Linear(in_features=768, out_features=2304, bias=False)\n",
       "          (act): GELUActivation()\n",
       "          (drop): Dropout(p=0.0, inplace=False)\n",
       "          (Wo): Linear(in_features=1152, out_features=768, bias=False)\n",
       "        )\n",
       "      )\n",
       "      (1-21): 21 x ModernBertEncoderLayer(\n",
       "        (attn_norm): LayerNorm((768,), eps=1e-05, elementwise_affine=True)\n",
       "        (attn): ModernBertAttention(\n",
       "          (Wqkv): Linear(in_features=768, out_features=2304, bias=False)\n",
       "          (rotary_emb): ModernBertRotaryEmbedding()\n",
       "          (Wo): Linear(in_features=768, out_features=768, bias=False)\n",
       "          (out_drop): Identity()\n",
       "        )\n",
       "        (mlp_norm): LayerNorm((768,), eps=1e-05, elementwise_affine=True)\n",
       "        (mlp): ModernBertMLP(\n",
       "          (Wi): Linear(in_features=768, out_features=2304, bias=False)\n",
       "          (act): GELUActivation()\n",
       "          (drop): Dropout(p=0.0, inplace=False)\n",
       "          (Wo): Linear(in_features=1152, out_features=768, bias=False)\n",
       "        )\n",
       "      )\n",
       "    )\n",
       "    (final_norm): LayerNorm((768,), eps=1e-05, elementwise_affine=True)\n",
       "  )\n",
       "  (classifier): Linear(in_features=768, out_features=1, bias=True)\n",
       ")"
      ]
     },
     "execution_count": 50,
     "metadata": {},
     "output_type": "execute_result"
    }
   ],
   "source": [
    "optimizer = torch.optim.Adam(model.parameters(), lr=2e-5)\n",
    "criterion = nn.BCEWithLogitsLoss()\n",
    "model.train()"
   ]
  },
  {
   "cell_type": "code",
   "execution_count": 51,
   "metadata": {
    "execution": {
     "iopub.execute_input": "2025-08-18T17:04:54.053412Z",
     "iopub.status.busy": "2025-08-18T17:04:54.053215Z",
     "iopub.status.idle": "2025-08-18T17:04:54.069310Z",
     "shell.execute_reply": "2025-08-18T17:04:54.068623Z",
     "shell.execute_reply.started": "2025-08-18T17:04:54.053393Z"
    },
    "trusted": true
   },
   "outputs": [],
   "source": [
    "def evaluate(model, dataloader, criterion):\n",
    "    model.eval()\n",
    "    total_loss = 0\n",
    "    total_correct = 0\n",
    "    total_examples = 0\n",
    "\n",
    "    with torch.no_grad():\n",
    "        for batch in dataloader:\n",
    "            input_ids = batch[\"input_ids\"].to(device)\n",
    "            attention_mask = batch[\"attention_mask\"].to(device)\n",
    "            labels = batch[\"label\"].to(device)\n",
    "\n",
    "            logits = model(input_ids=input_ids, attention_mask=attention_mask)\n",
    "            loss = criterion(logits, labels)\n",
    "            total_loss += loss.item()\n",
    "\n",
    "            probs = torch.sigmoid(logits)\n",
    "            preds = (probs > 0.5).float()\n",
    "            total_correct += (preds == labels).sum().item()\n",
    "            total_examples += labels.size(0)\n",
    "\n",
    "    model.train()\n",
    "    accuracy = total_correct / total_examples\n",
    "    avg_loss = total_loss / len(dataloader)\n",
    "    return avg_loss, accuracy\n"
   ]
  },
  {
   "cell_type": "code",
   "execution_count": 52,
   "metadata": {
    "execution": {
     "iopub.execute_input": "2025-08-18T17:04:54.070643Z",
     "iopub.status.busy": "2025-08-18T17:04:54.070374Z",
     "iopub.status.idle": "2025-08-18T17:19:59.752683Z",
     "shell.execute_reply": "2025-08-18T17:19:59.751919Z",
     "shell.execute_reply.started": "2025-08-18T17:04:54.070616Z"
    },
    "trusted": true
   },
   "outputs": [
    {
     "name": "stdout",
     "output_type": "stream",
     "text": [
      "Epoch 1 | Train Loss: 0.6981 | Train Acc: 0.4983 | Val Loss: 0.6937 | Val Acc: 0.5000\n",
      "Epoch 2 | Train Loss: 0.6960 | Train Acc: 0.4977 | Val Loss: 0.6926 | Val Acc: 0.5212\n",
      "Epoch 3 | Train Loss: 0.6944 | Train Acc: 0.5072 | Val Loss: 0.7038 | Val Acc: 0.5015\n",
      "Epoch 4 | Train Loss: 0.6919 | Train Acc: 0.5129 | Val Loss: 0.6900 | Val Acc: 0.5225\n",
      "Epoch 5 | Train Loss: 0.6885 | Train Acc: 0.5312 | Val Loss: 0.6878 | Val Acc: 0.5453\n"
     ]
    }
   ],
   "source": [
    "for epoch in range(5):\n",
    "    total_train_loss = 0\n",
    "    total_train_correct = 0\n",
    "    total_train_examples = 0\n",
    "    model.train()\n",
    "\n",
    "    for batch in train_loader:\n",
    "        input_ids = batch[\"input_ids\"].to(device)\n",
    "        attention_mask = batch[\"attention_mask\"].to(device)\n",
    "        labels = batch[\"label\"].to(device)\n",
    "\n",
    "        logits = model(input_ids=input_ids, attention_mask=attention_mask)\n",
    "        loss = criterion(logits, labels)\n",
    "\n",
    "        loss.backward()\n",
    "        optimizer.step()\n",
    "        optimizer.zero_grad()\n",
    "\n",
    "        total_train_loss += loss.item()\n",
    "        probs = torch.sigmoid(logits)\n",
    "        preds = (probs > 0.5).float()\n",
    "        total_train_correct += (preds == labels).sum().item()\n",
    "        total_train_examples += labels.size(0)\n",
    "\n",
    "    avg_train_loss = total_train_loss / len(train_loader)\n",
    "    train_acc = total_train_correct / total_train_examples\n",
    "\n",
    "    avg_val_loss, val_acc = evaluate(model, val_loader, criterion)\n",
    "\n",
    "    print(f\"Epoch {epoch+1} | Train Loss: {avg_train_loss:.4f} | Train Acc: {train_acc:.4f} | Val Loss: {avg_val_loss:.4f} | Val Acc: {val_acc:.4f}\")\n"
   ]
  },
  {
   "cell_type": "code",
   "execution_count": 53,
   "metadata": {
    "execution": {
     "iopub.execute_input": "2025-08-18T17:19:59.753586Z",
     "iopub.status.busy": "2025-08-18T17:19:59.753389Z",
     "iopub.status.idle": "2025-08-18T17:20:09.965786Z",
     "shell.execute_reply": "2025-08-18T17:20:09.964882Z",
     "shell.execute_reply.started": "2025-08-18T17:19:59.753563Z"
    },
    "trusted": true
   },
   "outputs": [
    {
     "name": "stdout",
     "output_type": "stream",
     "text": [
      "Test Loss: 0.6853 | Test Accuracy: 0.5337\n"
     ]
    }
   ],
   "source": [
    "test_loss, test_acc = evaluate(model, test_loader, criterion)\n",
    "print(f\"Test Loss: {test_loss:.4f} | Test Accuracy: {test_acc:.4f}\")"
   ]
  },
  {
   "cell_type": "markdown",
   "metadata": {},
   "source": [
    "As expected, the model fails to learn when provided with only symbolic triples. Loss stagnates at 0.693 and accuracy remains near 50%, equivalent to random guessing. This validates our hypothesis that ModernBERT requires semantically meaningful input to be effective in link prediction."
   ]
  },
  {
   "cell_type": "code",
   "execution_count": 54,
   "metadata": {
    "execution": {
     "iopub.execute_input": "2025-08-18T17:20:09.967249Z",
     "iopub.status.busy": "2025-08-18T17:20:09.966725Z",
     "iopub.status.idle": "2025-08-18T17:20:20.193266Z",
     "shell.execute_reply": "2025-08-18T17:20:20.192462Z",
     "shell.execute_reply.started": "2025-08-18T17:20:09.967223Z"
    },
    "trusted": true
   },
   "outputs": [],
   "source": [
    "from sklearn.metrics import classification_report, roc_auc_score, roc_curve\n",
    "import matplotlib.pyplot as plt\n",
    "import torch.nn.functional as F\n",
    "\n",
    "model.eval()\n",
    "all_labels = []\n",
    "all_preds = []\n",
    "all_probs = []\n",
    "\n",
    "with torch.no_grad():\n",
    "    for batch in test_loader:\n",
    "        input_ids = batch[\"input_ids\"].to(device)\n",
    "        attention_mask = batch[\"attention_mask\"].to(device)\n",
    "        labels = batch[\"label\"].to(device)\n",
    "\n",
    "        logits = model(input_ids=input_ids, attention_mask=attention_mask)\n",
    "        probs = torch.sigmoid(logits)\n",
    "\n",
    "        all_labels.extend(labels.cpu().numpy())\n",
    "        all_probs.extend(probs.cpu().numpy())\n",
    "        all_preds.extend((probs > 0.5).float().cpu().numpy())"
   ]
  },
  {
   "cell_type": "code",
   "execution_count": 55,
   "metadata": {
    "execution": {
     "iopub.execute_input": "2025-08-18T17:20:20.194481Z",
     "iopub.status.busy": "2025-08-18T17:20:20.194287Z",
     "iopub.status.idle": "2025-08-18T17:20:20.214357Z",
     "shell.execute_reply": "2025-08-18T17:20:20.213576Z",
     "shell.execute_reply.started": "2025-08-18T17:20:20.194467Z"
    },
    "trusted": true
   },
   "outputs": [
    {
     "name": "stdout",
     "output_type": "stream",
     "text": [
      "              precision    recall  f1-score   support\n",
      "\n",
      "         0.0     0.5206    0.8540    0.6468      2000\n",
      "         1.0     0.5939    0.2135    0.3141      2000\n",
      "\n",
      "    accuracy                         0.5337      4000\n",
      "   macro avg     0.5572    0.5337    0.4805      4000\n",
      "weighted avg     0.5572    0.5337    0.4805      4000\n",
      "\n"
     ]
    }
   ],
   "source": [
    "from sklearn.metrics import classification_report\n",
    "\n",
    "print(classification_report(all_labels, all_preds, digits=4))"
   ]
  },
  {
   "cell_type": "code",
   "execution_count": 56,
   "metadata": {
    "execution": {
     "iopub.execute_input": "2025-08-18T17:20:20.215265Z",
     "iopub.status.busy": "2025-08-18T17:20:20.215054Z",
     "iopub.status.idle": "2025-08-18T17:20:20.224054Z",
     "shell.execute_reply": "2025-08-18T17:20:20.223491Z",
     "shell.execute_reply.started": "2025-08-18T17:20:20.215250Z"
    },
    "trusted": true
   },
   "outputs": [
    {
     "name": "stdout",
     "output_type": "stream",
     "text": [
      "ROC AUC: 0.5737\n"
     ]
    }
   ],
   "source": [
    "from sklearn.metrics import roc_auc_score\n",
    "\n",
    "auc = roc_auc_score(all_labels, all_probs)\n",
    "print(f\"ROC AUC: {auc:.4f}\")"
   ]
  },
  {
   "cell_type": "code",
   "execution_count": 57,
   "metadata": {
    "execution": {
     "iopub.execute_input": "2025-08-18T17:20:20.225137Z",
     "iopub.status.busy": "2025-08-18T17:20:20.224801Z",
     "iopub.status.idle": "2025-08-18T17:20:20.408654Z",
     "shell.execute_reply": "2025-08-18T17:20:20.407875Z",
     "shell.execute_reply.started": "2025-08-18T17:20:20.225048Z"
    },
    "trusted": true
   },
   "outputs": [
    {
     "data": {
      "image/png": "[encoded data removed]",
      "text/plain": [
       "<Figure size 800x600 with 1 Axes>"
      ]
     },
     "metadata": {},
     "output_type": "display_data"
    }
   ],
   "source": [
    "fpr, tpr, thresholds = roc_curve(all_labels, all_probs)\n",
    "\n",
    "plt.figure(figsize=(8,6))\n",
    "plt.plot(fpr, tpr, label=f\"ROC Curve (AUC = {auc:.4f})\")\n",
    "plt.plot([0, 1], [0, 1], linestyle=\"--\", color=\"gray\")\n",
    "plt.xlabel(\"False Positive Rate\")\n",
    "plt.ylabel(\"True Positive Rate\")\n",
    "plt.title(\"ROC Curve\")\n",
    "plt.legend()\n",
    "plt.grid(True)\n",
    "plt.show()"
   ]
  },
  {
   "cell_type": "markdown",
   "metadata": {},
   "source": [
    "From the ROC-AUC curve as well as from the classification report, it is fairly evident how less accurately the model performs when the data is not correctly encoded. Therefore, it is important to have phrases which more or less make sense when using ModernBERT as otherwise you cannot take advantage of the pretraining. "
   ]
  },
  {
   "cell_type": "markdown",
   "metadata": {},
   "source": [
    "## Brief literature review\n",
    "\n",
    "Research is no stranger to the phenomenon observed in the development of this notebook. Many papers have been written on the topic, and they all prove that language models can be used to predict links, entities, and in my case the mere existence of triples if and only if these triples are transformed into natural language sentences.\n",
    "\n",
    "First, the paper written by Yao et al. in 2019 titled \"KG-BERT: BERT for Knowledge Graph Completion\" (https://arxiv.org/abs/1909.07606) laid important groundwork for integrating language models into structured knowledge tasks, specifically concerning knowledge graphs, like in this case. They, much like what is done in the previous sections of my work, propose to transform the triples into human-like sentences and feed them into BERT to determine their plausibility. In my work, I mirrored what was done in this paper by transforming triples from the FB15k-237 dataset into human-readable phrases and using ModernBERT for binary classification, and supported their finding: that language models can perform link prediction if the structured data is linguistically contextualized.\n",
    "\n",
    "Furthermore, these findings are supported also by the paper written by Petroni et al., available at the following lin: https://aclanthology.org/D19-1250.pdf and written in 2019, takes into account ModernBERT and how this model can be used as a functional knowledge base when presented with factual information in natural language form. This relates to how I, in my work, convert the triples in the dataset, which are entirely encoded into indices, into natural language phrases. My findings are in line with the ones described in the paper, therefore that when the entities and relations are not mapped and are left as opaque identifiers, the model performance drops significantly, and even after extensive training the results are not satisfactory. "
   ]
  },
  {
   "cell_type": "code",
   "execution_count": null,
   "metadata": {
    "trusted": true
   },
   "outputs": [],
   "source": []
  }
 ],
 "metadata": {
  "accelerator": "GPU",
  "colab": {
   "gpuType": "T4",
   "provenance": []
  },
  "kaggle": {
   "accelerator": "none",
   "dataSources": [],
   "dockerImageVersionId": 31090,
   "isGpuEnabled": false,
   "isInternetEnabled": true,
   "language": "python",
   "sourceType": "notebook"
  },
  "kernelspec": {
   "display_name": "Python 3",
   "language": "python",
   "name": "python3"
  },
  "language_info": {
   "codemirror_mode": {
    "name": "ipython",
    "version": 3
   },
   "file_extension": ".py",
   "mimetype": "text/x-python",
   "name": "python",
   "nbconvert_exporter": "python",
   "pygments_lexer": "ipython3",
   "version": "3.11.13"
  },
  "widgets": {
   "application/vnd.jupyter.widget-state+json": {
    "0047d520ad694ec094877b32007e20ef": {
     "model_module": "@jupyter-widgets/controls",
     "model_module_version": "1.5.0",
     "model_name": "HTMLModel",
     "state": {
      "_dom_classes": [],
      "_model_module": "@jupyter-widgets/controls",
      "_model_module_version": "1.5.0",
      "_model_name": "HTMLModel",
      "_view_count": null,
      "_view_module": "@jupyter-widgets/controls",
      "_view_module_version": "1.5.0",
      "_view_name": "HTMLView",
      "description": "",
      "description_tooltip": null,
      "layout": "IPY_MODEL_8069f323370447e48c918d7093abe396",
      "placeholder": "​",
      "style": "IPY_MODEL_fd7cd179aadc4c2a93d17764c367752e",
      "value": "Generating train split: 100%"
     }
    },
    "039f6eb2e4c8465893abc04dd897fd63": {
     "model_module": "@jupyter-widgets/controls",
     "model_module_version": "1.5.0",
     "model_name": "DescriptionStyleModel",
     "state": {
      "_model_module": "@jupyter-widgets/controls",
      "_model_module_version": "1.5.0",
      "_model_name": "DescriptionStyleModel",
      "_view_count": null,
      "_view_module": "@jupyter-widgets/base",
      "_view_module_version": "1.2.0",
      "_view_name": "StyleView",
      "description_width": ""
     }
    },
    "073241a9b6354907bb0ad029adefd5d1": {
     "model_module": "@jupyter-widgets/controls",
     "model_module_version": "1.5.0",
     "model_name": "ProgressStyleModel",
     "state": {
      "_model_module": "@jupyter-widgets/controls",
      "_model_module_version": "1.5.0",
      "_model_name": "ProgressStyleModel",
      "_view_count": null,
      "_view_module": "@jupyter-widgets/base",
      "_view_module_version": "1.2.0",
      "_view_name": "StyleView",
      "bar_color": null,
      "description_width": ""
     }
    },
    "07f665e4e3324af1a63973df96b2f74e": {
     "model_module": "@jupyter-widgets/controls",
     "model_module_version": "1.5.0",
     "model_name": "ProgressStyleModel",
     "state": {
      "_model_module": "@jupyter-widgets/controls",
      "_model_module_version": "1.5.0",
      "_model_name": "ProgressStyleModel",
      "_view_count": null,
      "_view_module": "@jupyter-widgets/base",
      "_view_module_version": "1.2.0",
      "_view_name": "StyleView",
      "bar_color": null,
      "description_width": ""
     }
    },
    "08a71267389649b8a2ba38789834a82d": {
     "model_module": "@jupyter-widgets/base",
     "model_module_version": "1.2.0",
     "model_name": "LayoutModel",
     "state": {
      "_model_module": "@jupyter-widgets/base",
      "_model_module_version": "1.2.0",
      "_model_name": "LayoutModel",
      "_view_count": null,
      "_view_module": "@jupyter-widgets/base",
      "_view_module_version": "1.2.0",
      "_view_name": "LayoutView",
      "align_content": null,
      "align_items": null,
      "align_self": null,
      "border": null,
      "bottom": null,
      "display": null,
      "flex": null,
      "flex_flow": null,
      "grid_area": null,
      "grid_auto_columns": null,
      "grid_auto_flow": null,
      "grid_auto_rows": null,
      "grid_column": null,
      "grid_gap": null,
      "grid_row": null,
      "grid_template_areas": null,
      "grid_template_columns": null,
      "grid_template_rows": null,
      "height": null,
      "justify_content": null,
      "justify_items": null,
      "left": null,
      "margin": null,
      "max_height": null,
      "max_width": null,
      "min_height": null,
      "min_width": null,
      "object_fit": null,
      "object_position": null,
      "order": null,
      "overflow": null,
      "overflow_x": null,
      "overflow_y": null,
      "padding": null,
      "right": null,
      "top": null,
      "visibility": null,
      "width": null
     }
    },
    "099301b553704ee5ad7816af05d163e5": {
     "model_module": "@jupyter-widgets/controls",
     "model_module_version": "1.5.0",
     "model_name": "HTMLModel",
     "state": {
      "_dom_classes": [],
      "_model_module": "@jupyter-widgets/controls",
      "_model_module_version": "1.5.0",
      "_model_name": "HTMLModel",
      "_view_count": null,
      "_view_module": "@jupyter-widgets/controls",
      "_view_module_version": "1.5.0",
      "_view_name": "HTMLView",
      "description": "",
      "description_tooltip": null,
      "layout": "IPY_MODEL_16ecf93e34164f5295c01f52cd4ecdbf",
      "placeholder": "​",
      "style": "IPY_MODEL_8fa71abd28534900b85d484162f35aa7",
      "value": " 17535/17535 [00:00&lt;00:00, 141041.04 examples/s]"
     }
    },
    "0b20511c9e75447eb4f700bce8c077f9": {
     "model_module": "@jupyter-widgets/controls",
     "model_module_version": "1.5.0",
     "model_name": "DescriptionStyleModel",
     "state": {
      "_model_module": "@jupyter-widgets/controls",
      "_model_module_version": "1.5.0",
      "_model_name": "DescriptionStyleModel",
      "_view_count": null,
      "_view_module": "@jupyter-widgets/base",
      "_view_module_version": "1.2.0",
      "_view_name": "StyleView",
      "description_width": ""
     }
    },
    "0e197d7762c445d48d85a842fb6b0fb3": {
     "model_module": "@jupyter-widgets/controls",
     "model_module_version": "1.5.0",
     "model_name": "HTMLModel",
     "state": {
      "_dom_classes": [],
      "_model_module": "@jupyter-widgets/controls",
      "_model_module_version": "1.5.0",
      "_model_name": "HTMLModel",
      "_view_count": null,
      "_view_module": "@jupyter-widgets/controls",
      "_view_module_version": "1.5.0",
      "_view_name": "HTMLView",
      "description": "",
      "description_tooltip": null,
      "layout": "IPY_MODEL_f29954f9f3514f2faa4b88c1a05be0f0",
      "placeholder": "​",
      "style": "IPY_MODEL_1b81b0b7f0f744868f10d62081e60db1",
      "value": "train.csv: 100%"
     }
    },
    "10a71c40494e48fb8cbb6ed45fc9afd9": {
     "model_module": "@jupyter-widgets/base",
     "model_module_version": "1.2.0",
     "model_name": "LayoutModel",
     "state": {
      "_model_module": "@jupyter-widgets/base",
      "_model_module_version": "1.2.0",
      "_model_name": "LayoutModel",
      "_view_count": null,
      "_view_module": "@jupyter-widgets/base",
      "_view_module_version": "1.2.0",
      "_view_name": "LayoutView",
      "align_content": null,
      "align_items": null,
      "align_self": null,
      "border": null,
      "bottom": null,
      "display": null,
      "flex": null,
      "flex_flow": null,
      "grid_area": null,
      "grid_auto_columns": null,
      "grid_auto_flow": null,
      "grid_auto_rows": null,
      "grid_column": null,
      "grid_gap": null,
      "grid_row": null,
      "grid_template_areas": null,
      "grid_template_columns": null,
      "grid_template_rows": null,
      "height": null,
      "justify_content": null,
      "justify_items": null,
      "left": null,
      "margin": null,
      "max_height": null,
      "max_width": null,
      "min_height": null,
      "min_width": null,
      "object_fit": null,
      "object_position": null,
      "order": null,
      "overflow": null,
      "overflow_x": null,
      "overflow_y": null,
      "padding": null,
      "right": null,
      "top": null,
      "visibility": null,
      "width": null
     }
    },
    "161300e40b1744e792190574d8f1ae4e": {
     "model_module": "@jupyter-widgets/controls",
     "model_module_version": "1.5.0",
     "model_name": "HBoxModel",
     "state": {
      "_dom_classes": [],
      "_model_module": "@jupyter-widgets/controls",
      "_model_module_version": "1.5.0",
      "_model_name": "HBoxModel",
      "_view_count": null,
      "_view_module": "@jupyter-widgets/controls",
      "_view_module_version": "1.5.0",
      "_view_name": "HBoxView",
      "box_style": "",
      "children": [
       "IPY_MODEL_908cf0621e5f449d848a8e0358103aae",
       "IPY_MODEL_3f03cb71ffa84260a55747417ccd5b7e",
       "IPY_MODEL_2e86fc6f454f4520987cbb74c19aeb58"
      ],
      "layout": "IPY_MODEL_49e0b0c891f7425c9a7f236498a4c8e3"
     }
    },
    "16c5cad737434496b160b58c0995a0fa": {
     "model_module": "@jupyter-widgets/controls",
     "model_module_version": "1.5.0",
     "model_name": "DescriptionStyleModel",
     "state": {
      "_model_module": "@jupyter-widgets/controls",
      "_model_module_version": "1.5.0",
      "_model_name": "DescriptionStyleModel",
      "_view_count": null,
      "_view_module": "@jupyter-widgets/base",
      "_view_module_version": "1.2.0",
      "_view_name": "StyleView",
      "description_width": ""
     }
    },
    "16ecf93e34164f5295c01f52cd4ecdbf": {
     "model_module": "@jupyter-widgets/base",
     "model_module_version": "1.2.0",
     "model_name": "LayoutModel",
     "state": {
      "_model_module": "@jupyter-widgets/base",
      "_model_module_version": "1.2.0",
      "_model_name": "LayoutModel",
      "_view_count": null,
      "_view_module": "@jupyter-widgets/base",
      "_view_module_version": "1.2.0",
      "_view_name": "LayoutView",
      "align_content": null,
      "align_items": null,
      "align_self": null,
      "border": null,
      "bottom": null,
      "display": null,
      "flex": null,
      "flex_flow": null,
      "grid_area": null,
      "grid_auto_columns": null,
      "grid_auto_flow": null,
      "grid_auto_rows": null,
      "grid_column": null,
      "grid_gap": null,
      "grid_row": null,
      "grid_template_areas": null,
      "grid_template_columns": null,
      "grid_template_rows": null,
      "height": null,
      "justify_content": null,
      "justify_items": null,
      "left": null,
      "margin": null,
      "max_height": null,
      "max_width": null,
      "min_height": null,
      "min_width": null,
      "object_fit": null,
      "object_position": null,
      "order": null,
      "overflow": null,
      "overflow_x": null,
      "overflow_y": null,
      "padding": null,
      "right": null,
      "top": null,
      "visibility": null,
      "width": null
     }
    },
    "1a8c94d0b8ba4ff1858c85c986d42edb": {
     "model_module": "@jupyter-widgets/base",
     "model_module_version": "1.2.0",
     "model_name": "LayoutModel",
     "state": {
      "_model_module": "@jupyter-widgets/base",
      "_model_module_version": "1.2.0",
      "_model_name": "LayoutModel",
      "_view_count": null,
      "_view_module": "@jupyter-widgets/base",
      "_view_module_version": "1.2.0",
      "_view_name": "LayoutView",
      "align_content": null,
      "align_items": null,
      "align_self": null,
      "border": null,
      "bottom": null,
      "display": null,
      "flex": null,
      "flex_flow": null,
      "grid_area": null,
      "grid_auto_columns": null,
      "grid_auto_flow": null,
      "grid_auto_rows": null,
      "grid_column": null,
      "grid_gap": null,
      "grid_row": null,
      "grid_template_areas": null,
      "grid_template_columns": null,
      "grid_template_rows": null,
      "height": null,
      "justify_content": null,
      "justify_items": null,
      "left": null,
      "margin": null,
      "max_height": null,
      "max_width": null,
      "min_height": null,
      "min_width": null,
      "object_fit": null,
      "object_position": null,
      "order": null,
      "overflow": null,
      "overflow_x": null,
      "overflow_y": null,
      "padding": null,
      "right": null,
      "top": null,
      "visibility": null,
      "width": null
     }
    },
    "1b81b0b7f0f744868f10d62081e60db1": {
     "model_module": "@jupyter-widgets/controls",
     "model_module_version": "1.5.0",
     "model_name": "DescriptionStyleModel",
     "state": {
      "_model_module": "@jupyter-widgets/controls",
      "_model_module_version": "1.5.0",
      "_model_name": "DescriptionStyleModel",
      "_view_count": null,
      "_view_module": "@jupyter-widgets/base",
      "_view_module_version": "1.2.0",
      "_view_name": "StyleView",
      "description_width": ""
     }
    },
    "1ff37d9296ee4202a0cca0251131eff2": {
     "model_module": "@jupyter-widgets/controls",
     "model_module_version": "1.5.0",
     "model_name": "HBoxModel",
     "state": {
      "_dom_classes": [],
      "_model_module": "@jupyter-widgets/controls",
      "_model_module_version": "1.5.0",
      "_model_name": "HBoxModel",
      "_view_count": null,
      "_view_module": "@jupyter-widgets/controls",
      "_view_module_version": "1.5.0",
      "_view_name": "HBoxView",
      "box_style": "",
      "children": [
       "IPY_MODEL_7fbd375ab9c642d58ad50aa906f754bd",
       "IPY_MODEL_770278be97c54dc6b1ca46147e8055f6",
       "IPY_MODEL_099301b553704ee5ad7816af05d163e5"
      ],
      "layout": "IPY_MODEL_10a71c40494e48fb8cbb6ed45fc9afd9"
     }
    },
    "20c45ee72e4343b8b250d698ca3e5966": {
     "model_module": "@jupyter-widgets/controls",
     "model_module_version": "1.5.0",
     "model_name": "ProgressStyleModel",
     "state": {
      "_model_module": "@jupyter-widgets/controls",
      "_model_module_version": "1.5.0",
      "_model_name": "ProgressStyleModel",
      "_view_count": null,
      "_view_module": "@jupyter-widgets/base",
      "_view_module_version": "1.2.0",
      "_view_name": "StyleView",
      "bar_color": null,
      "description_width": ""
     }
    },
    "224b3a28d7ba44a5996f44717d1dd833": {
     "model_module": "@jupyter-widgets/controls",
     "model_module_version": "1.5.0",
     "model_name": "DescriptionStyleModel",
     "state": {
      "_model_module": "@jupyter-widgets/controls",
      "_model_module_version": "1.5.0",
      "_model_name": "DescriptionStyleModel",
      "_view_count": null,
      "_view_module": "@jupyter-widgets/base",
      "_view_module_version": "1.2.0",
      "_view_name": "StyleView",
      "description_width": ""
     }
    },
    "25e627ef4d0b40a1b4b09d707ca29d8e": {
     "model_module": "@jupyter-widgets/base",
     "model_module_version": "1.2.0",
     "model_name": "LayoutModel",
     "state": {
      "_model_module": "@jupyter-widgets/base",
      "_model_module_version": "1.2.0",
      "_model_name": "LayoutModel",
      "_view_count": null,
      "_view_module": "@jupyter-widgets/base",
      "_view_module_version": "1.2.0",
      "_view_name": "LayoutView",
      "align_content": null,
      "align_items": null,
      "align_self": null,
      "border": null,
      "bottom": null,
      "display": null,
      "flex": null,
      "flex_flow": null,
      "grid_area": null,
      "grid_auto_columns": null,
      "grid_auto_flow": null,
      "grid_auto_rows": null,
      "grid_column": null,
      "grid_gap": null,
      "grid_row": null,
      "grid_template_areas": null,
      "grid_template_columns": null,
      "grid_template_rows": null,
      "height": null,
      "justify_content": null,
      "justify_items": null,
      "left": null,
      "margin": null,
      "max_height": null,
      "max_width": null,
      "min_height": null,
      "min_width": null,
      "object_fit": null,
      "object_position": null,
      "order": null,
      "overflow": null,
      "overflow_x": null,
      "overflow_y": null,
      "padding": null,
      "right": null,
      "top": null,
      "visibility": null,
      "width": null
     }
    },
    "2e86fc6f454f4520987cbb74c19aeb58": {
     "model_module": "@jupyter-widgets/controls",
     "model_module_version": "1.5.0",
     "model_name": "HTMLModel",
     "state": {
      "_dom_classes": [],
      "_model_module": "@jupyter-widgets/controls",
      "_model_module_version": "1.5.0",
      "_model_name": "HTMLModel",
      "_view_count": null,
      "_view_module": "@jupyter-widgets/controls",
      "_view_module_version": "1.5.0",
      "_view_name": "HTMLView",
      "description": "",
      "description_tooltip": null,
      "layout": "IPY_MODEL_6aa5e640ee7c42d88578521b0fde8b5f",
      "placeholder": "​",
      "style": "IPY_MODEL_16c5cad737434496b160b58c0995a0fa",
      "value": " 27.0/27.0 [00:00&lt;00:00, 928B/s]"
     }
    },
    "339e884994744f6b86127ef7e554e712": {
     "model_module": "@jupyter-widgets/controls",
     "model_module_version": "1.5.0",
     "model_name": "HTMLModel",
     "state": {
      "_dom_classes": [],
      "_model_module": "@jupyter-widgets/controls",
      "_model_module_version": "1.5.0",
      "_model_name": "HTMLModel",
      "_view_count": null,
      "_view_module": "@jupyter-widgets/controls",
      "_view_module_version": "1.5.0",
      "_view_name": "HTMLView",
      "description": "",
      "description_tooltip": null,
      "layout": "IPY_MODEL_25e627ef4d0b40a1b4b09d707ca29d8e",
      "placeholder": "​",
      "style": "IPY_MODEL_0b20511c9e75447eb4f700bce8c077f9",
      "value": " 1.50M/? [00:00&lt;00:00, 15.9MB/s]"
     }
    },
    "3d89dbecab9a451386701db0fb8f1ac6": {
     "model_module": "@jupyter-widgets/controls",
     "model_module_version": "1.5.0",
     "model_name": "HBoxModel",
     "state": {
      "_dom_classes": [],
      "_model_module": "@jupyter-widgets/controls",
      "_model_module_version": "1.5.0",
      "_model_name": "HBoxModel",
      "_view_count": null,
      "_view_module": "@jupyter-widgets/controls",
      "_view_module_version": "1.5.0",
      "_view_name": "HBoxView",
      "box_style": "",
      "children": [
       "IPY_MODEL_ccea143913c14cf9b6b6d36ba4537003",
       "IPY_MODEL_d418908020b641148e4150da379e32a5",
       "IPY_MODEL_4fa04f2cb0344c36add0912d6fea57e7"
      ],
      "layout": "IPY_MODEL_7b8125dc670f48bd8c43ac9ba185446b"
     }
    },
    "3f03cb71ffa84260a55747417ccd5b7e": {
     "model_module": "@jupyter-widgets/controls",
     "model_module_version": "1.5.0",
     "model_name": "FloatProgressModel",
     "state": {
      "_dom_classes": [],
      "_model_module": "@jupyter-widgets/controls",
      "_model_module_version": "1.5.0",
      "_model_name": "FloatProgressModel",
      "_view_count": null,
      "_view_module": "@jupyter-widgets/controls",
      "_view_module_version": "1.5.0",
      "_view_name": "ProgressView",
      "bar_style": "success",
      "description": "",
      "description_tooltip": null,
      "layout": "IPY_MODEL_5f62831d6dec4c5199029f6678a78c5e",
      "max": 27,
      "min": 0,
      "orientation": "horizontal",
      "style": "IPY_MODEL_07f665e4e3324af1a63973df96b2f74e",
      "value": 27
     }
    },
    "49e0b0c891f7425c9a7f236498a4c8e3": {
     "model_module": "@jupyter-widgets/base",
     "model_module_version": "1.2.0",
     "model_name": "LayoutModel",
     "state": {
      "_model_module": "@jupyter-widgets/base",
      "_model_module_version": "1.2.0",
      "_model_name": "LayoutModel",
      "_view_count": null,
      "_view_module": "@jupyter-widgets/base",
      "_view_module_version": "1.2.0",
      "_view_name": "LayoutView",
      "align_content": null,
      "align_items": null,
      "align_self": null,
      "border": null,
      "bottom": null,
      "display": null,
      "flex": null,
      "flex_flow": null,
      "grid_area": null,
      "grid_auto_columns": null,
      "grid_auto_flow": null,
      "grid_auto_rows": null,
      "grid_column": null,
      "grid_gap": null,
      "grid_row": null,
      "grid_template_areas": null,
      "grid_template_columns": null,
      "grid_template_rows": null,
      "height": null,
      "justify_content": null,
      "justify_items": null,
      "left": null,
      "margin": null,
      "max_height": null,
      "max_width": null,
      "min_height": null,
      "min_width": null,
      "object_fit": null,
      "object_position": null,
      "order": null,
      "overflow": null,
      "overflow_x": null,
      "overflow_y": null,
      "padding": null,
      "right": null,
      "top": null,
      "visibility": null,
      "width": null
     }
    },
    "4f5d3f3e1bc643a886f348789e7bf52d": {
     "model_module": "@jupyter-widgets/controls",
     "model_module_version": "1.5.0",
     "model_name": "ProgressStyleModel",
     "state": {
      "_model_module": "@jupyter-widgets/controls",
      "_model_module_version": "1.5.0",
      "_model_name": "ProgressStyleModel",
      "_view_count": null,
      "_view_module": "@jupyter-widgets/base",
      "_view_module_version": "1.2.0",
      "_view_name": "StyleView",
      "bar_color": null,
      "description_width": ""
     }
    },
    "4fa04f2cb0344c36add0912d6fea57e7": {
     "model_module": "@jupyter-widgets/controls",
     "model_module_version": "1.5.0",
     "model_name": "HTMLModel",
     "state": {
      "_dom_classes": [],
      "_model_module": "@jupyter-widgets/controls",
      "_model_module_version": "1.5.0",
      "_model_name": "HTMLModel",
      "_view_count": null,
      "_view_module": "@jupyter-widgets/controls",
      "_view_module_version": "1.5.0",
      "_view_name": "HTMLView",
      "description": "",
      "description_tooltip": null,
      "layout": "IPY_MODEL_bd4c6764b9ab4ef98fa42f8caa3c41b0",
      "placeholder": "​",
      "style": "IPY_MODEL_d9841c70b30640438b97a2d24512d3cc",
      "value": " 1.29M/? [00:00&lt;00:00, 14.7MB/s]"
     }
    },
    "5182a1048b0f46e7b9b3087f64895c75": {
     "model_module": "@jupyter-widgets/base",
     "model_module_version": "1.2.0",
     "model_name": "LayoutModel",
     "state": {
      "_model_module": "@jupyter-widgets/base",
      "_model_module_version": "1.2.0",
      "_model_name": "LayoutModel",
      "_view_count": null,
      "_view_module": "@jupyter-widgets/base",
      "_view_module_version": "1.2.0",
      "_view_name": "LayoutView",
      "align_content": null,
      "align_items": null,
      "align_self": null,
      "border": null,
      "bottom": null,
      "display": null,
      "flex": null,
      "flex_flow": null,
      "grid_area": null,
      "grid_auto_columns": null,
      "grid_auto_flow": null,
      "grid_auto_rows": null,
      "grid_column": null,
      "grid_gap": null,
      "grid_row": null,
      "grid_template_areas": null,
      "grid_template_columns": null,
      "grid_template_rows": null,
      "height": null,
      "justify_content": null,
      "justify_items": null,
      "left": null,
      "margin": null,
      "max_height": null,
      "max_width": null,
      "min_height": null,
      "min_width": null,
      "object_fit": null,
      "object_position": null,
      "order": null,
      "overflow": null,
      "overflow_x": null,
      "overflow_y": null,
      "padding": null,
      "right": null,
      "top": null,
      "visibility": null,
      "width": null
     }
    },
    "55bb5450d4ea4fc6a3c3fc5c6deb3883": {
     "model_module": "@jupyter-widgets/base",
     "model_module_version": "1.2.0",
     "model_name": "LayoutModel",
     "state": {
      "_model_module": "@jupyter-widgets/base",
      "_model_module_version": "1.2.0",
      "_model_name": "LayoutModel",
      "_view_count": null,
      "_view_module": "@jupyter-widgets/base",
      "_view_module_version": "1.2.0",
      "_view_name": "LayoutView",
      "align_content": null,
      "align_items": null,
      "align_self": null,
      "border": null,
      "bottom": null,
      "display": null,
      "flex": null,
      "flex_flow": null,
      "grid_area": null,
      "grid_auto_columns": null,
      "grid_auto_flow": null,
      "grid_auto_rows": null,
      "grid_column": null,
      "grid_gap": null,
      "grid_row": null,
      "grid_template_areas": null,
      "grid_template_columns": null,
      "grid_template_rows": null,
      "height": null,
      "justify_content": null,
      "justify_items": null,
      "left": null,
      "margin": null,
      "max_height": null,
      "max_width": null,
      "min_height": null,
      "min_width": null,
      "object_fit": null,
      "object_position": null,
      "order": null,
      "overflow": null,
      "overflow_x": null,
      "overflow_y": null,
      "padding": null,
      "right": null,
      "top": null,
      "visibility": null,
      "width": null
     }
    },
    "5833c0be5ee049e59a1249bb1e54ab37": {
     "model_module": "@jupyter-widgets/base",
     "model_module_version": "1.2.0",
     "model_name": "LayoutModel",
     "state": {
      "_model_module": "@jupyter-widgets/base",
      "_model_module_version": "1.2.0",
      "_model_name": "LayoutModel",
      "_view_count": null,
      "_view_module": "@jupyter-widgets/base",
      "_view_module_version": "1.2.0",
      "_view_name": "LayoutView",
      "align_content": null,
      "align_items": null,
      "align_self": null,
      "border": null,
      "bottom": null,
      "display": null,
      "flex": null,
      "flex_flow": null,
      "grid_area": null,
      "grid_auto_columns": null,
      "grid_auto_flow": null,
      "grid_auto_rows": null,
      "grid_column": null,
      "grid_gap": null,
      "grid_row": null,
      "grid_template_areas": null,
      "grid_template_columns": null,
      "grid_template_rows": null,
      "height": null,
      "justify_content": null,
      "justify_items": null,
      "left": null,
      "margin": null,
      "max_height": null,
      "max_width": null,
      "min_height": null,
      "min_width": null,
      "object_fit": null,
      "object_position": null,
      "order": null,
      "overflow": null,
      "overflow_x": null,
      "overflow_y": null,
      "padding": null,
      "right": null,
      "top": null,
      "visibility": null,
      "width": null
     }
    },
    "593855b97a54479c916e10d93f3dce32": {
     "model_module": "@jupyter-widgets/controls",
     "model_module_version": "1.5.0",
     "model_name": "DescriptionStyleModel",
     "state": {
      "_model_module": "@jupyter-widgets/controls",
      "_model_module_version": "1.5.0",
      "_model_name": "DescriptionStyleModel",
      "_view_count": null,
      "_view_module": "@jupyter-widgets/base",
      "_view_module_version": "1.2.0",
      "_view_name": "StyleView",
      "description_width": ""
     }
    },
    "5a8130d129a14e61ad80b8dfe2aac9ee": {
     "model_module": "@jupyter-widgets/controls",
     "model_module_version": "1.5.0",
     "model_name": "HTMLModel",
     "state": {
      "_dom_classes": [],
      "_model_module": "@jupyter-widgets/controls",
      "_model_module_version": "1.5.0",
      "_model_name": "HTMLModel",
      "_view_count": null,
      "_view_module": "@jupyter-widgets/controls",
      "_view_module_version": "1.5.0",
      "_view_name": "HTMLView",
      "description": "",
      "description_tooltip": null,
      "layout": "IPY_MODEL_55bb5450d4ea4fc6a3c3fc5c6deb3883",
      "placeholder": "​",
      "style": "IPY_MODEL_bb94fc7f0eac498db98bcd9d25c77198",
      "value": "test.csv: "
     }
    },
    "5af62ace21344c0eb832f08763ccb2dd": {
     "model_module": "@jupyter-widgets/controls",
     "model_module_version": "1.5.0",
     "model_name": "ProgressStyleModel",
     "state": {
      "_model_module": "@jupyter-widgets/controls",
      "_model_module_version": "1.5.0",
      "_model_name": "ProgressStyleModel",
      "_view_count": null,
      "_view_module": "@jupyter-widgets/base",
      "_view_module_version": "1.2.0",
      "_view_name": "StyleView",
      "bar_color": null,
      "description_width": ""
     }
    },
    "5f62831d6dec4c5199029f6678a78c5e": {
     "model_module": "@jupyter-widgets/base",
     "model_module_version": "1.2.0",
     "model_name": "LayoutModel",
     "state": {
      "_model_module": "@jupyter-widgets/base",
      "_model_module_version": "1.2.0",
      "_model_name": "LayoutModel",
      "_view_count": null,
      "_view_module": "@jupyter-widgets/base",
      "_view_module_version": "1.2.0",
      "_view_name": "LayoutView",
      "align_content": null,
      "align_items": null,
      "align_self": null,
      "border": null,
      "bottom": null,
      "display": null,
      "flex": null,
      "flex_flow": null,
      "grid_area": null,
      "grid_auto_columns": null,
      "grid_auto_flow": null,
      "grid_auto_rows": null,
      "grid_column": null,
      "grid_gap": null,
      "grid_row": null,
      "grid_template_areas": null,
      "grid_template_columns": null,
      "grid_template_rows": null,
      "height": null,
      "justify_content": null,
      "justify_items": null,
      "left": null,
      "margin": null,
      "max_height": null,
      "max_width": null,
      "min_height": null,
      "min_width": null,
      "object_fit": null,
      "object_position": null,
      "order": null,
      "overflow": null,
      "overflow_x": null,
      "overflow_y": null,
      "padding": null,
      "right": null,
      "top": null,
      "visibility": null,
      "width": null
     }
    },
    "624dc1e05cb14d7f9993720102bdfbc3": {
     "model_module": "@jupyter-widgets/base",
     "model_module_version": "1.2.0",
     "model_name": "LayoutModel",
     "state": {
      "_model_module": "@jupyter-widgets/base",
      "_model_module_version": "1.2.0",
      "_model_name": "LayoutModel",
      "_view_count": null,
      "_view_module": "@jupyter-widgets/base",
      "_view_module_version": "1.2.0",
      "_view_name": "LayoutView",
      "align_content": null,
      "align_items": null,
      "align_self": null,
      "border": null,
      "bottom": null,
      "display": null,
      "flex": null,
      "flex_flow": null,
      "grid_area": null,
      "grid_auto_columns": null,
      "grid_auto_flow": null,
      "grid_auto_rows": null,
      "grid_column": null,
      "grid_gap": null,
      "grid_row": null,
      "grid_template_areas": null,
      "grid_template_columns": null,
      "grid_template_rows": null,
      "height": null,
      "justify_content": null,
      "justify_items": null,
      "left": null,
      "margin": null,
      "max_height": null,
      "max_width": null,
      "min_height": null,
      "min_width": null,
      "object_fit": null,
      "object_position": null,
      "order": null,
      "overflow": null,
      "overflow_x": null,
      "overflow_y": null,
      "padding": null,
      "right": null,
      "top": null,
      "visibility": null,
      "width": null
     }
    },
    "681081b14cea430ca58408090a751a2e": {
     "model_module": "@jupyter-widgets/controls",
     "model_module_version": "1.5.0",
     "model_name": "DescriptionStyleModel",
     "state": {
      "_model_module": "@jupyter-widgets/controls",
      "_model_module_version": "1.5.0",
      "_model_name": "DescriptionStyleModel",
      "_view_count": null,
      "_view_module": "@jupyter-widgets/base",
      "_view_module_version": "1.2.0",
      "_view_name": "StyleView",
      "description_width": ""
     }
    },
    "68cb7b2197614ede8dc8ada218596591": {
     "model_module": "@jupyter-widgets/base",
     "model_module_version": "1.2.0",
     "model_name": "LayoutModel",
     "state": {
      "_model_module": "@jupyter-widgets/base",
      "_model_module_version": "1.2.0",
      "_model_name": "LayoutModel",
      "_view_count": null,
      "_view_module": "@jupyter-widgets/base",
      "_view_module_version": "1.2.0",
      "_view_name": "LayoutView",
      "align_content": null,
      "align_items": null,
      "align_self": null,
      "border": null,
      "bottom": null,
      "display": null,
      "flex": null,
      "flex_flow": null,
      "grid_area": null,
      "grid_auto_columns": null,
      "grid_auto_flow": null,
      "grid_auto_rows": null,
      "grid_column": null,
      "grid_gap": null,
      "grid_row": null,
      "grid_template_areas": null,
      "grid_template_columns": null,
      "grid_template_rows": null,
      "height": null,
      "justify_content": null,
      "justify_items": null,
      "left": null,
      "margin": null,
      "max_height": null,
      "max_width": null,
      "min_height": null,
      "min_width": null,
      "object_fit": null,
      "object_position": null,
      "order": null,
      "overflow": null,
      "overflow_x": null,
      "overflow_y": null,
      "padding": null,
      "right": null,
      "top": null,
      "visibility": null,
      "width": null
     }
    },
    "6aa5e640ee7c42d88578521b0fde8b5f": {
     "model_module": "@jupyter-widgets/base",
     "model_module_version": "1.2.0",
     "model_name": "LayoutModel",
     "state": {
      "_model_module": "@jupyter-widgets/base",
      "_model_module_version": "1.2.0",
      "_model_name": "LayoutModel",
      "_view_count": null,
      "_view_module": "@jupyter-widgets/base",
      "_view_module_version": "1.2.0",
      "_view_name": "LayoutView",
      "align_content": null,
      "align_items": null,
      "align_self": null,
      "border": null,
      "bottom": null,
      "display": null,
      "flex": null,
      "flex_flow": null,
      "grid_area": null,
      "grid_auto_columns": null,
      "grid_auto_flow": null,
      "grid_auto_rows": null,
      "grid_column": null,
      "grid_gap": null,
      "grid_row": null,
      "grid_template_areas": null,
      "grid_template_columns": null,
      "grid_template_rows": null,
      "height": null,
      "justify_content": null,
      "justify_items": null,
      "left": null,
      "margin": null,
      "max_height": null,
      "max_width": null,
      "min_height": null,
      "min_width": null,
      "object_fit": null,
      "object_position": null,
      "order": null,
      "overflow": null,
      "overflow_x": null,
      "overflow_y": null,
      "padding": null,
      "right": null,
      "top": null,
      "visibility": null,
      "width": null
     }
    },
    "770278be97c54dc6b1ca46147e8055f6": {
     "model_module": "@jupyter-widgets/controls",
     "model_module_version": "1.5.0",
     "model_name": "FloatProgressModel",
     "state": {
      "_dom_classes": [],
      "_model_module": "@jupyter-widgets/controls",
      "_model_module_version": "1.5.0",
      "_model_name": "FloatProgressModel",
      "_view_count": null,
      "_view_module": "@jupyter-widgets/controls",
      "_view_module_version": "1.5.0",
      "_view_name": "ProgressView",
      "bar_style": "success",
      "description": "",
      "description_tooltip": null,
      "layout": "IPY_MODEL_624dc1e05cb14d7f9993720102bdfbc3",
      "max": 17535,
      "min": 0,
      "orientation": "horizontal",
      "style": "IPY_MODEL_d91c19682ba64d73b432043989d2002e",
      "value": 17535
     }
    },
    "78e38325373747b7b9296fac648b028c": {
     "model_module": "@jupyter-widgets/controls",
     "model_module_version": "1.5.0",
     "model_name": "FloatProgressModel",
     "state": {
      "_dom_classes": [],
      "_model_module": "@jupyter-widgets/controls",
      "_model_module_version": "1.5.0",
      "_model_name": "FloatProgressModel",
      "_view_count": null,
      "_view_module": "@jupyter-widgets/controls",
      "_view_module_version": "1.5.0",
      "_view_name": "ProgressView",
      "bar_style": "success",
      "description": "",
      "description_tooltip": null,
      "layout": "IPY_MODEL_e381fbcebbf844ee8835fed2c4e77b5f",
      "max": 1,
      "min": 0,
      "orientation": "horizontal",
      "style": "IPY_MODEL_073241a9b6354907bb0ad029adefd5d1",
      "value": 1
     }
    },
    "7ae26e08784b4533939848188bab1b8a": {
     "model_module": "@jupyter-widgets/controls",
     "model_module_version": "1.5.0",
     "model_name": "HBoxModel",
     "state": {
      "_dom_classes": [],
      "_model_module": "@jupyter-widgets/controls",
      "_model_module_version": "1.5.0",
      "_model_name": "HBoxModel",
      "_view_count": null,
      "_view_module": "@jupyter-widgets/controls",
      "_view_module_version": "1.5.0",
      "_view_name": "HBoxView",
      "box_style": "",
      "children": [
       "IPY_MODEL_0047d520ad694ec094877b32007e20ef",
       "IPY_MODEL_de5992a1f6944c488d8d88160ff9baac",
       "IPY_MODEL_aa4519ff03bd4c0eb7a220ac02aef9f7"
      ],
      "layout": "IPY_MODEL_e9497f6f5f374288a638cbfba91c92cf"
     }
    },
    "7b8125dc670f48bd8c43ac9ba185446b": {
     "model_module": "@jupyter-widgets/base",
     "model_module_version": "1.2.0",
     "model_name": "LayoutModel",
     "state": {
      "_model_module": "@jupyter-widgets/base",
      "_model_module_version": "1.2.0",
      "_model_name": "LayoutModel",
      "_view_count": null,
      "_view_module": "@jupyter-widgets/base",
      "_view_module_version": "1.2.0",
      "_view_name": "LayoutView",
      "align_content": null,
      "align_items": null,
      "align_self": null,
      "border": null,
      "bottom": null,
      "display": null,
      "flex": null,
      "flex_flow": null,
      "grid_area": null,
      "grid_auto_columns": null,
      "grid_auto_flow": null,
      "grid_auto_rows": null,
      "grid_column": null,
      "grid_gap": null,
      "grid_row": null,
      "grid_template_areas": null,
      "grid_template_columns": null,
      "grid_template_rows": null,
      "height": null,
      "justify_content": null,
      "justify_items": null,
      "left": null,
      "margin": null,
      "max_height": null,
      "max_width": null,
      "min_height": null,
      "min_width": null,
      "object_fit": null,
      "object_position": null,
      "order": null,
      "overflow": null,
      "overflow_x": null,
      "overflow_y": null,
      "padding": null,
      "right": null,
      "top": null,
      "visibility": null,
      "width": null
     }
    },
    "7fbd375ab9c642d58ad50aa906f754bd": {
     "model_module": "@jupyter-widgets/controls",
     "model_module_version": "1.5.0",
     "model_name": "HTMLModel",
     "state": {
      "_dom_classes": [],
      "_model_module": "@jupyter-widgets/controls",
      "_model_module_version": "1.5.0",
      "_model_name": "HTMLModel",
      "_view_count": null,
      "_view_module": "@jupyter-widgets/controls",
      "_view_module_version": "1.5.0",
      "_view_name": "HTMLView",
      "description": "",
      "description_tooltip": null,
      "layout": "IPY_MODEL_08a71267389649b8a2ba38789834a82d",
      "placeholder": "​",
      "style": "IPY_MODEL_593855b97a54479c916e10d93f3dce32",
      "value": "Generating validation split: 100%"
     }
    },
    "8069f323370447e48c918d7093abe396": {
     "model_module": "@jupyter-widgets/base",
     "model_module_version": "1.2.0",
     "model_name": "LayoutModel",
     "state": {
      "_model_module": "@jupyter-widgets/base",
      "_model_module_version": "1.2.0",
      "_model_name": "LayoutModel",
      "_view_count": null,
      "_view_module": "@jupyter-widgets/base",
      "_view_module_version": "1.2.0",
      "_view_name": "LayoutView",
      "align_content": null,
      "align_items": null,
      "align_self": null,
      "border": null,
      "bottom": null,
      "display": null,
      "flex": null,
      "flex_flow": null,
      "grid_area": null,
      "grid_auto_columns": null,
      "grid_auto_flow": null,
      "grid_auto_rows": null,
      "grid_column": null,
      "grid_gap": null,
      "grid_row": null,
      "grid_template_areas": null,
      "grid_template_columns": null,
      "grid_template_rows": null,
      "height": null,
      "justify_content": null,
      "justify_items": null,
      "left": null,
      "margin": null,
      "max_height": null,
      "max_width": null,
      "min_height": null,
      "min_width": null,
      "object_fit": null,
      "object_position": null,
      "order": null,
      "overflow": null,
      "overflow_x": null,
      "overflow_y": null,
      "padding": null,
      "right": null,
      "top": null,
      "visibility": null,
      "width": null
     }
    },
    "8607c4311fb94a7bac0ca1127a4457e1": {
     "model_module": "@jupyter-widgets/controls",
     "model_module_version": "1.5.0",
     "model_name": "ProgressStyleModel",
     "state": {
      "_model_module": "@jupyter-widgets/controls",
      "_model_module_version": "1.5.0",
      "_model_name": "ProgressStyleModel",
      "_view_count": null,
      "_view_module": "@jupyter-widgets/base",
      "_view_module_version": "1.2.0",
      "_view_name": "StyleView",
      "bar_color": null,
      "description_width": ""
     }
    },
    "8c80cb0a7bd742418b24910806387f28": {
     "model_module": "@jupyter-widgets/base",
     "model_module_version": "1.2.0",
     "model_name": "LayoutModel",
     "state": {
      "_model_module": "@jupyter-widgets/base",
      "_model_module_version": "1.2.0",
      "_model_name": "LayoutModel",
      "_view_count": null,
      "_view_module": "@jupyter-widgets/base",
      "_view_module_version": "1.2.0",
      "_view_name": "LayoutView",
      "align_content": null,
      "align_items": null,
      "align_self": null,
      "border": null,
      "bottom": null,
      "display": null,
      "flex": null,
      "flex_flow": null,
      "grid_area": null,
      "grid_auto_columns": null,
      "grid_auto_flow": null,
      "grid_auto_rows": null,
      "grid_column": null,
      "grid_gap": null,
      "grid_row": null,
      "grid_template_areas": null,
      "grid_template_columns": null,
      "grid_template_rows": null,
      "height": null,
      "justify_content": null,
      "justify_items": null,
      "left": null,
      "margin": null,
      "max_height": null,
      "max_width": null,
      "min_height": null,
      "min_width": null,
      "object_fit": null,
      "object_position": null,
      "order": null,
      "overflow": null,
      "overflow_x": null,
      "overflow_y": null,
      "padding": null,
      "right": null,
      "top": null,
      "visibility": null,
      "width": null
     }
    },
    "8fa71abd28534900b85d484162f35aa7": {
     "model_module": "@jupyter-widgets/controls",
     "model_module_version": "1.5.0",
     "model_name": "DescriptionStyleModel",
     "state": {
      "_model_module": "@jupyter-widgets/controls",
      "_model_module_version": "1.5.0",
      "_model_name": "DescriptionStyleModel",
      "_view_count": null,
      "_view_module": "@jupyter-widgets/base",
      "_view_module_version": "1.2.0",
      "_view_name": "StyleView",
      "description_width": ""
     }
    },
    "908cf0621e5f449d848a8e0358103aae": {
     "model_module": "@jupyter-widgets/controls",
     "model_module_version": "1.5.0",
     "model_name": "HTMLModel",
     "state": {
      "_dom_classes": [],
      "_model_module": "@jupyter-widgets/controls",
      "_model_module_version": "1.5.0",
      "_model_name": "HTMLModel",
      "_view_count": null,
      "_view_module": "@jupyter-widgets/controls",
      "_view_module_version": "1.5.0",
      "_view_name": "HTMLView",
      "description": "",
      "description_tooltip": null,
      "layout": "IPY_MODEL_5182a1048b0f46e7b9b3087f64895c75",
      "placeholder": "​",
      "style": "IPY_MODEL_039f6eb2e4c8465893abc04dd897fd63",
      "value": "README.md: 100%"
     }
    },
    "931f7dfe273544b2a9c868d63ddd4afe": {
     "model_module": "@jupyter-widgets/controls",
     "model_module_version": "1.5.0",
     "model_name": "HTMLModel",
     "state": {
      "_dom_classes": [],
      "_model_module": "@jupyter-widgets/controls",
      "_model_module_version": "1.5.0",
      "_model_name": "HTMLModel",
      "_view_count": null,
      "_view_module": "@jupyter-widgets/controls",
      "_view_module_version": "1.5.0",
      "_view_name": "HTMLView",
      "description": "",
      "description_tooltip": null,
      "layout": "IPY_MODEL_bdff9ee7fb534296ad849952d592eded",
      "placeholder": "​",
      "style": "IPY_MODEL_681081b14cea430ca58408090a751a2e",
      "value": "Generating test split: 100%"
     }
    },
    "946bc785bc2b463baf66d20f049725a4": {
     "model_module": "@jupyter-widgets/controls",
     "model_module_version": "1.5.0",
     "model_name": "DescriptionStyleModel",
     "state": {
      "_model_module": "@jupyter-widgets/controls",
      "_model_module_version": "1.5.0",
      "_model_name": "DescriptionStyleModel",
      "_view_count": null,
      "_view_module": "@jupyter-widgets/base",
      "_view_module_version": "1.2.0",
      "_view_name": "StyleView",
      "description_width": ""
     }
    },
    "9953177171b344a9b53bfc586bb8e7db": {
     "model_module": "@jupyter-widgets/controls",
     "model_module_version": "1.5.0",
     "model_name": "HTMLModel",
     "state": {
      "_dom_classes": [],
      "_model_module": "@jupyter-widgets/controls",
      "_model_module_version": "1.5.0",
      "_model_name": "HTMLModel",
      "_view_count": null,
      "_view_module": "@jupyter-widgets/controls",
      "_view_module_version": "1.5.0",
      "_view_name": "HTMLView",
      "description": "",
      "description_tooltip": null,
      "layout": "IPY_MODEL_8c80cb0a7bd742418b24910806387f28",
      "placeholder": "​",
      "style": "IPY_MODEL_ce764fcf7207455d8cf963a62a7b18cd",
      "value": " 20466/20466 [00:00&lt;00:00, 95916.35 examples/s]"
     }
    },
    "9ca88f1eb1d343fba0d88360fcbfb35e": {
     "model_module": "@jupyter-widgets/controls",
     "model_module_version": "1.5.0",
     "model_name": "HBoxModel",
     "state": {
      "_dom_classes": [],
      "_model_module": "@jupyter-widgets/controls",
      "_model_module_version": "1.5.0",
      "_model_name": "HBoxModel",
      "_view_count": null,
      "_view_module": "@jupyter-widgets/controls",
      "_view_module_version": "1.5.0",
      "_view_name": "HBoxView",
      "box_style": "",
      "children": [
       "IPY_MODEL_0e197d7762c445d48d85a842fb6b0fb3",
       "IPY_MODEL_c5176e5c1e2b4d128dfed67b6d42430e",
       "IPY_MODEL_f4faaa22ff194f5198526db3f9716768"
      ],
      "layout": "IPY_MODEL_a8ec611fd2164cb6af775b27be82e975"
     }
    },
    "a5dfb567e550478faf7c5c59ad8c229b": {
     "model_module": "@jupyter-widgets/controls",
     "model_module_version": "1.5.0",
     "model_name": "HBoxModel",
     "state": {
      "_dom_classes": [],
      "_model_module": "@jupyter-widgets/controls",
      "_model_module_version": "1.5.0",
      "_model_name": "HBoxModel",
      "_view_count": null,
      "_view_module": "@jupyter-widgets/controls",
      "_view_module_version": "1.5.0",
      "_view_name": "HBoxView",
      "box_style": "",
      "children": [
       "IPY_MODEL_931f7dfe273544b2a9c868d63ddd4afe",
       "IPY_MODEL_b0a9d1157610443398825bb491703bac",
       "IPY_MODEL_9953177171b344a9b53bfc586bb8e7db"
      ],
      "layout": "IPY_MODEL_68cb7b2197614ede8dc8ada218596591"
     }
    },
    "a83d2d1f68d148219b90767fac35217d": {
     "model_module": "@jupyter-widgets/base",
     "model_module_version": "1.2.0",
     "model_name": "LayoutModel",
     "state": {
      "_model_module": "@jupyter-widgets/base",
      "_model_module_version": "1.2.0",
      "_model_name": "LayoutModel",
      "_view_count": null,
      "_view_module": "@jupyter-widgets/base",
      "_view_module_version": "1.2.0",
      "_view_name": "LayoutView",
      "align_content": null,
      "align_items": null,
      "align_self": null,
      "border": null,
      "bottom": null,
      "display": null,
      "flex": null,
      "flex_flow": null,
      "grid_area": null,
      "grid_auto_columns": null,
      "grid_auto_flow": null,
      "grid_auto_rows": null,
      "grid_column": null,
      "grid_gap": null,
      "grid_row": null,
      "grid_template_areas": null,
      "grid_template_columns": null,
      "grid_template_rows": null,
      "height": null,
      "justify_content": null,
      "justify_items": null,
      "left": null,
      "margin": null,
      "max_height": null,
      "max_width": null,
      "min_height": null,
      "min_width": null,
      "object_fit": null,
      "object_position": null,
      "order": null,
      "overflow": null,
      "overflow_x": null,
      "overflow_y": null,
      "padding": null,
      "right": null,
      "top": null,
      "visibility": null,
      "width": null
     }
    },
    "a8ec611fd2164cb6af775b27be82e975": {
     "model_module": "@jupyter-widgets/base",
     "model_module_version": "1.2.0",
     "model_name": "LayoutModel",
     "state": {
      "_model_module": "@jupyter-widgets/base",
      "_model_module_version": "1.2.0",
      "_model_name": "LayoutModel",
      "_view_count": null,
      "_view_module": "@jupyter-widgets/base",
      "_view_module_version": "1.2.0",
      "_view_name": "LayoutView",
      "align_content": null,
      "align_items": null,
      "align_self": null,
      "border": null,
      "bottom": null,
      "display": null,
      "flex": null,
      "flex_flow": null,
      "grid_area": null,
      "grid_auto_columns": null,
      "grid_auto_flow": null,
      "grid_auto_rows": null,
      "grid_column": null,
      "grid_gap": null,
      "grid_row": null,
      "grid_template_areas": null,
      "grid_template_columns": null,
      "grid_template_rows": null,
      "height": null,
      "justify_content": null,
      "justify_items": null,
      "left": null,
      "margin": null,
      "max_height": null,
      "max_width": null,
      "min_height": null,
      "min_width": null,
      "object_fit": null,
      "object_position": null,
      "order": null,
      "overflow": null,
      "overflow_x": null,
      "overflow_y": null,
      "padding": null,
      "right": null,
      "top": null,
      "visibility": null,
      "width": null
     }
    },
    "aa4519ff03bd4c0eb7a220ac02aef9f7": {
     "model_module": "@jupyter-widgets/controls",
     "model_module_version": "1.5.0",
     "model_name": "HTMLModel",
     "state": {
      "_dom_classes": [],
      "_model_module": "@jupyter-widgets/controls",
      "_model_module_version": "1.5.0",
      "_model_name": "HTMLModel",
      "_view_count": null,
      "_view_module": "@jupyter-widgets/controls",
      "_view_module_version": "1.5.0",
      "_view_name": "HTMLView",
      "description": "",
      "description_tooltip": null,
      "layout": "IPY_MODEL_a83d2d1f68d148219b90767fac35217d",
      "placeholder": "​",
      "style": "IPY_MODEL_224b3a28d7ba44a5996f44717d1dd833",
      "value": " 272115/272115 [00:01&lt;00:00, 233761.51 examples/s]"
     }
    },
    "b0a9d1157610443398825bb491703bac": {
     "model_module": "@jupyter-widgets/controls",
     "model_module_version": "1.5.0",
     "model_name": "FloatProgressModel",
     "state": {
      "_dom_classes": [],
      "_model_module": "@jupyter-widgets/controls",
      "_model_module_version": "1.5.0",
      "_model_name": "FloatProgressModel",
      "_view_count": null,
      "_view_module": "@jupyter-widgets/controls",
      "_view_module_version": "1.5.0",
      "_view_name": "ProgressView",
      "bar_style": "success",
      "description": "",
      "description_tooltip": null,
      "layout": "IPY_MODEL_5833c0be5ee049e59a1249bb1e54ab37",
      "max": 20466,
      "min": 0,
      "orientation": "horizontal",
      "style": "IPY_MODEL_8607c4311fb94a7bac0ca1127a4457e1",
      "value": 20466
     }
    },
    "b68b364298f240c19c1dacbb6ab6d4ab": {
     "model_module": "@jupyter-widgets/base",
     "model_module_version": "1.2.0",
     "model_name": "LayoutModel",
     "state": {
      "_model_module": "@jupyter-widgets/base",
      "_model_module_version": "1.2.0",
      "_model_name": "LayoutModel",
      "_view_count": null,
      "_view_module": "@jupyter-widgets/base",
      "_view_module_version": "1.2.0",
      "_view_name": "LayoutView",
      "align_content": null,
      "align_items": null,
      "align_self": null,
      "border": null,
      "bottom": null,
      "display": null,
      "flex": null,
      "flex_flow": null,
      "grid_area": null,
      "grid_auto_columns": null,
      "grid_auto_flow": null,
      "grid_auto_rows": null,
      "grid_column": null,
      "grid_gap": null,
      "grid_row": null,
      "grid_template_areas": null,
      "grid_template_columns": null,
      "grid_template_rows": null,
      "height": null,
      "justify_content": null,
      "justify_items": null,
      "left": null,
      "margin": null,
      "max_height": null,
      "max_width": null,
      "min_height": null,
      "min_width": null,
      "object_fit": null,
      "object_position": null,
      "order": null,
      "overflow": null,
      "overflow_x": null,
      "overflow_y": null,
      "padding": null,
      "right": null,
      "top": null,
      "visibility": null,
      "width": null
     }
    },
    "b68e751ffd2d440c9c46cd9b16d51293": {
     "model_module": "@jupyter-widgets/base",
     "model_module_version": "1.2.0",
     "model_name": "LayoutModel",
     "state": {
      "_model_module": "@jupyter-widgets/base",
      "_model_module_version": "1.2.0",
      "_model_name": "LayoutModel",
      "_view_count": null,
      "_view_module": "@jupyter-widgets/base",
      "_view_module_version": "1.2.0",
      "_view_name": "LayoutView",
      "align_content": null,
      "align_items": null,
      "align_self": null,
      "border": null,
      "bottom": null,
      "display": null,
      "flex": null,
      "flex_flow": null,
      "grid_area": null,
      "grid_auto_columns": null,
      "grid_auto_flow": null,
      "grid_auto_rows": null,
      "grid_column": null,
      "grid_gap": null,
      "grid_row": null,
      "grid_template_areas": null,
      "grid_template_columns": null,
      "grid_template_rows": null,
      "height": null,
      "justify_content": null,
      "justify_items": null,
      "left": null,
      "margin": null,
      "max_height": null,
      "max_width": null,
      "min_height": null,
      "min_width": null,
      "object_fit": null,
      "object_position": null,
      "order": null,
      "overflow": null,
      "overflow_x": null,
      "overflow_y": null,
      "padding": null,
      "right": null,
      "top": null,
      "visibility": null,
      "width": "20px"
     }
    },
    "b7c9a7fdfcda4691a3ecf60e24a35e67": {
     "model_module": "@jupyter-widgets/controls",
     "model_module_version": "1.5.0",
     "model_name": "HBoxModel",
     "state": {
      "_dom_classes": [],
      "_model_module": "@jupyter-widgets/controls",
      "_model_module_version": "1.5.0",
      "_model_name": "HBoxModel",
      "_view_count": null,
      "_view_module": "@jupyter-widgets/controls",
      "_view_module_version": "1.5.0",
      "_view_name": "HBoxView",
      "box_style": "",
      "children": [
       "IPY_MODEL_5a8130d129a14e61ad80b8dfe2aac9ee",
       "IPY_MODEL_78e38325373747b7b9296fac648b028c",
       "IPY_MODEL_339e884994744f6b86127ef7e554e712"
      ],
      "layout": "IPY_MODEL_1a8c94d0b8ba4ff1858c85c986d42edb"
     }
    },
    "bb94fc7f0eac498db98bcd9d25c77198": {
     "model_module": "@jupyter-widgets/controls",
     "model_module_version": "1.5.0",
     "model_name": "DescriptionStyleModel",
     "state": {
      "_model_module": "@jupyter-widgets/controls",
      "_model_module_version": "1.5.0",
      "_model_name": "DescriptionStyleModel",
      "_view_count": null,
      "_view_module": "@jupyter-widgets/base",
      "_view_module_version": "1.2.0",
      "_view_name": "StyleView",
      "description_width": ""
     }
    },
    "bbc04c2832f2418cb3941922ba0fe322": {
     "model_module": "@jupyter-widgets/base",
     "model_module_version": "1.2.0",
     "model_name": "LayoutModel",
     "state": {
      "_model_module": "@jupyter-widgets/base",
      "_model_module_version": "1.2.0",
      "_model_name": "LayoutModel",
      "_view_count": null,
      "_view_module": "@jupyter-widgets/base",
      "_view_module_version": "1.2.0",
      "_view_name": "LayoutView",
      "align_content": null,
      "align_items": null,
      "align_self": null,
      "border": null,
      "bottom": null,
      "display": null,
      "flex": null,
      "flex_flow": null,
      "grid_area": null,
      "grid_auto_columns": null,
      "grid_auto_flow": null,
      "grid_auto_rows": null,
      "grid_column": null,
      "grid_gap": null,
      "grid_row": null,
      "grid_template_areas": null,
      "grid_template_columns": null,
      "grid_template_rows": null,
      "height": null,
      "justify_content": null,
      "justify_items": null,
      "left": null,
      "margin": null,
      "max_height": null,
      "max_width": null,
      "min_height": null,
      "min_width": null,
      "object_fit": null,
      "object_position": null,
      "order": null,
      "overflow": null,
      "overflow_x": null,
      "overflow_y": null,
      "padding": null,
      "right": null,
      "top": null,
      "visibility": null,
      "width": null
     }
    },
    "bd4c6764b9ab4ef98fa42f8caa3c41b0": {
     "model_module": "@jupyter-widgets/base",
     "model_module_version": "1.2.0",
     "model_name": "LayoutModel",
     "state": {
      "_model_module": "@jupyter-widgets/base",
      "_model_module_version": "1.2.0",
      "_model_name": "LayoutModel",
      "_view_count": null,
      "_view_module": "@jupyter-widgets/base",
      "_view_module_version": "1.2.0",
      "_view_name": "LayoutView",
      "align_content": null,
      "align_items": null,
      "align_self": null,
      "border": null,
      "bottom": null,
      "display": null,
      "flex": null,
      "flex_flow": null,
      "grid_area": null,
      "grid_auto_columns": null,
      "grid_auto_flow": null,
      "grid_auto_rows": null,
      "grid_column": null,
      "grid_gap": null,
      "grid_row": null,
      "grid_template_areas": null,
      "grid_template_columns": null,
      "grid_template_rows": null,
      "height": null,
      "justify_content": null,
      "justify_items": null,
      "left": null,
      "margin": null,
      "max_height": null,
      "max_width": null,
      "min_height": null,
      "min_width": null,
      "object_fit": null,
      "object_position": null,
      "order": null,
      "overflow": null,
      "overflow_x": null,
      "overflow_y": null,
      "padding": null,
      "right": null,
      "top": null,
      "visibility": null,
      "width": null
     }
    },
    "bdd7a700989a4e8e8f8d6140e2df216e": {
     "model_module": "@jupyter-widgets/base",
     "model_module_version": "1.2.0",
     "model_name": "LayoutModel",
     "state": {
      "_model_module": "@jupyter-widgets/base",
      "_model_module_version": "1.2.0",
      "_model_name": "LayoutModel",
      "_view_count": null,
      "_view_module": "@jupyter-widgets/base",
      "_view_module_version": "1.2.0",
      "_view_name": "LayoutView",
      "align_content": null,
      "align_items": null,
      "align_self": null,
      "border": null,
      "bottom": null,
      "display": null,
      "flex": null,
      "flex_flow": null,
      "grid_area": null,
      "grid_auto_columns": null,
      "grid_auto_flow": null,
      "grid_auto_rows": null,
      "grid_column": null,
      "grid_gap": null,
      "grid_row": null,
      "grid_template_areas": null,
      "grid_template_columns": null,
      "grid_template_rows": null,
      "height": null,
      "justify_content": null,
      "justify_items": null,
      "left": null,
      "margin": null,
      "max_height": null,
      "max_width": null,
      "min_height": null,
      "min_width": null,
      "object_fit": null,
      "object_position": null,
      "order": null,
      "overflow": null,
      "overflow_x": null,
      "overflow_y": null,
      "padding": null,
      "right": null,
      "top": null,
      "visibility": null,
      "width": null
     }
    },
    "bdff9ee7fb534296ad849952d592eded": {
     "model_module": "@jupyter-widgets/base",
     "model_module_version": "1.2.0",
     "model_name": "LayoutModel",
     "state": {
      "_model_module": "@jupyter-widgets/base",
      "_model_module_version": "1.2.0",
      "_model_name": "LayoutModel",
      "_view_count": null,
      "_view_module": "@jupyter-widgets/base",
      "_view_module_version": "1.2.0",
      "_view_name": "LayoutView",
      "align_content": null,
      "align_items": null,
      "align_self": null,
      "border": null,
      "bottom": null,
      "display": null,
      "flex": null,
      "flex_flow": null,
      "grid_area": null,
      "grid_auto_columns": null,
      "grid_auto_flow": null,
      "grid_auto_rows": null,
      "grid_column": null,
      "grid_gap": null,
      "grid_row": null,
      "grid_template_areas": null,
      "grid_template_columns": null,
      "grid_template_rows": null,
      "height": null,
      "justify_content": null,
      "justify_items": null,
      "left": null,
      "margin": null,
      "max_height": null,
      "max_width": null,
      "min_height": null,
      "min_width": null,
      "object_fit": null,
      "object_position": null,
      "order": null,
      "overflow": null,
      "overflow_x": null,
      "overflow_y": null,
      "padding": null,
      "right": null,
      "top": null,
      "visibility": null,
      "width": null
     }
    },
    "c5176e5c1e2b4d128dfed67b6d42430e": {
     "model_module": "@jupyter-widgets/controls",
     "model_module_version": "1.5.0",
     "model_name": "FloatProgressModel",
     "state": {
      "_dom_classes": [],
      "_model_module": "@jupyter-widgets/controls",
      "_model_module_version": "1.5.0",
      "_model_name": "FloatProgressModel",
      "_view_count": null,
      "_view_module": "@jupyter-widgets/controls",
      "_view_module_version": "1.5.0",
      "_view_name": "ProgressView",
      "bar_style": "success",
      "description": "",
      "description_tooltip": null,
      "layout": "IPY_MODEL_bdd7a700989a4e8e8f8d6140e2df216e",
      "max": 21005196,
      "min": 0,
      "orientation": "horizontal",
      "style": "IPY_MODEL_4f5d3f3e1bc643a886f348789e7bf52d",
      "value": 21005196
     }
    },
    "ccea143913c14cf9b6b6d36ba4537003": {
     "model_module": "@jupyter-widgets/controls",
     "model_module_version": "1.5.0",
     "model_name": "HTMLModel",
     "state": {
      "_dom_classes": [],
      "_model_module": "@jupyter-widgets/controls",
      "_model_module_version": "1.5.0",
      "_model_name": "HTMLModel",
      "_view_count": null,
      "_view_module": "@jupyter-widgets/controls",
      "_view_module_version": "1.5.0",
      "_view_name": "HTMLView",
      "description": "",
      "description_tooltip": null,
      "layout": "IPY_MODEL_bbc04c2832f2418cb3941922ba0fe322",
      "placeholder": "​",
      "style": "IPY_MODEL_946bc785bc2b463baf66d20f049725a4",
      "value": "valid.csv: "
     }
    },
    "ce764fcf7207455d8cf963a62a7b18cd": {
     "model_module": "@jupyter-widgets/controls",
     "model_module_version": "1.5.0",
     "model_name": "DescriptionStyleModel",
     "state": {
      "_model_module": "@jupyter-widgets/controls",
      "_model_module_version": "1.5.0",
      "_model_name": "DescriptionStyleModel",
      "_view_count": null,
      "_view_module": "@jupyter-widgets/base",
      "_view_module_version": "1.2.0",
      "_view_name": "StyleView",
      "description_width": ""
     }
    },
    "d418908020b641148e4150da379e32a5": {
     "model_module": "@jupyter-widgets/controls",
     "model_module_version": "1.5.0",
     "model_name": "FloatProgressModel",
     "state": {
      "_dom_classes": [],
      "_model_module": "@jupyter-widgets/controls",
      "_model_module_version": "1.5.0",
      "_model_name": "FloatProgressModel",
      "_view_count": null,
      "_view_module": "@jupyter-widgets/controls",
      "_view_module_version": "1.5.0",
      "_view_name": "ProgressView",
      "bar_style": "success",
      "description": "",
      "description_tooltip": null,
      "layout": "IPY_MODEL_b68e751ffd2d440c9c46cd9b16d51293",
      "max": 1,
      "min": 0,
      "orientation": "horizontal",
      "style": "IPY_MODEL_5af62ace21344c0eb832f08763ccb2dd",
      "value": 1
     }
    },
    "d91c19682ba64d73b432043989d2002e": {
     "model_module": "@jupyter-widgets/controls",
     "model_module_version": "1.5.0",
     "model_name": "ProgressStyleModel",
     "state": {
      "_model_module": "@jupyter-widgets/controls",
      "_model_module_version": "1.5.0",
      "_model_name": "ProgressStyleModel",
      "_view_count": null,
      "_view_module": "@jupyter-widgets/base",
      "_view_module_version": "1.2.0",
      "_view_name": "StyleView",
      "bar_color": null,
      "description_width": ""
     }
    },
    "d9841c70b30640438b97a2d24512d3cc": {
     "model_module": "@jupyter-widgets/controls",
     "model_module_version": "1.5.0",
     "model_name": "DescriptionStyleModel",
     "state": {
      "_model_module": "@jupyter-widgets/controls",
      "_model_module_version": "1.5.0",
      "_model_name": "DescriptionStyleModel",
      "_view_count": null,
      "_view_module": "@jupyter-widgets/base",
      "_view_module_version": "1.2.0",
      "_view_name": "StyleView",
      "description_width": ""
     }
    },
    "de5992a1f6944c488d8d88160ff9baac": {
     "model_module": "@jupyter-widgets/controls",
     "model_module_version": "1.5.0",
     "model_name": "FloatProgressModel",
     "state": {
      "_dom_classes": [],
      "_model_module": "@jupyter-widgets/controls",
      "_model_module_version": "1.5.0",
      "_model_name": "FloatProgressModel",
      "_view_count": null,
      "_view_module": "@jupyter-widgets/controls",
      "_view_module_version": "1.5.0",
      "_view_name": "ProgressView",
      "bar_style": "success",
      "description": "",
      "description_tooltip": null,
      "layout": "IPY_MODEL_e1be8409510d4758a96c0b47a62582cc",
      "max": 272115,
      "min": 0,
      "orientation": "horizontal",
      "style": "IPY_MODEL_20c45ee72e4343b8b250d698ca3e5966",
      "value": 272115
     }
    },
    "e1be8409510d4758a96c0b47a62582cc": {
     "model_module": "@jupyter-widgets/base",
     "model_module_version": "1.2.0",
     "model_name": "LayoutModel",
     "state": {
      "_model_module": "@jupyter-widgets/base",
      "_model_module_version": "1.2.0",
      "_model_name": "LayoutModel",
      "_view_count": null,
      "_view_module": "@jupyter-widgets/base",
      "_view_module_version": "1.2.0",
      "_view_name": "LayoutView",
      "align_content": null,
      "align_items": null,
      "align_self": null,
      "border": null,
      "bottom": null,
      "display": null,
      "flex": null,
      "flex_flow": null,
      "grid_area": null,
      "grid_auto_columns": null,
      "grid_auto_flow": null,
      "grid_auto_rows": null,
      "grid_column": null,
      "grid_gap": null,
      "grid_row": null,
      "grid_template_areas": null,
      "grid_template_columns": null,
      "grid_template_rows": null,
      "height": null,
      "justify_content": null,
      "justify_items": null,
      "left": null,
      "margin": null,
      "max_height": null,
      "max_width": null,
      "min_height": null,
      "min_width": null,
      "object_fit": null,
      "object_position": null,
      "order": null,
      "overflow": null,
      "overflow_x": null,
      "overflow_y": null,
      "padding": null,
      "right": null,
      "top": null,
      "visibility": null,
      "width": null
     }
    },
    "e381fbcebbf844ee8835fed2c4e77b5f": {
     "model_module": "@jupyter-widgets/base",
     "model_module_version": "1.2.0",
     "model_name": "LayoutModel",
     "state": {
      "_model_module": "@jupyter-widgets/base",
      "_model_module_version": "1.2.0",
      "_model_name": "LayoutModel",
      "_view_count": null,
      "_view_module": "@jupyter-widgets/base",
      "_view_module_version": "1.2.0",
      "_view_name": "LayoutView",
      "align_content": null,
      "align_items": null,
      "align_self": null,
      "border": null,
      "bottom": null,
      "display": null,
      "flex": null,
      "flex_flow": null,
      "grid_area": null,
      "grid_auto_columns": null,
      "grid_auto_flow": null,
      "grid_auto_rows": null,
      "grid_column": null,
      "grid_gap": null,
      "grid_row": null,
      "grid_template_areas": null,
      "grid_template_columns": null,
      "grid_template_rows": null,
      "height": null,
      "justify_content": null,
      "justify_items": null,
      "left": null,
      "margin": null,
      "max_height": null,
      "max_width": null,
      "min_height": null,
      "min_width": null,
      "object_fit": null,
      "object_position": null,
      "order": null,
      "overflow": null,
      "overflow_x": null,
      "overflow_y": null,
      "padding": null,
      "right": null,
      "top": null,
      "visibility": null,
      "width": "20px"
     }
    },
    "e9497f6f5f374288a638cbfba91c92cf": {
     "model_module": "@jupyter-widgets/base",
     "model_module_version": "1.2.0",
     "model_name": "LayoutModel",
     "state": {
      "_model_module": "@jupyter-widgets/base",
      "_model_module_version": "1.2.0",
      "_model_name": "LayoutModel",
      "_view_count": null,
      "_view_module": "@jupyter-widgets/base",
      "_view_module_version": "1.2.0",
      "_view_name": "LayoutView",
      "align_content": null,
      "align_items": null,
      "align_self": null,
      "border": null,
      "bottom": null,
      "display": null,
      "flex": null,
      "flex_flow": null,
      "grid_area": null,
      "grid_auto_columns": null,
      "grid_auto_flow": null,
      "grid_auto_rows": null,
      "grid_column": null,
      "grid_gap": null,
      "grid_row": null,
      "grid_template_areas": null,
      "grid_template_columns": null,
      "grid_template_rows": null,
      "height": null,
      "justify_content": null,
      "justify_items": null,
      "left": null,
      "margin": null,
      "max_height": null,
      "max_width": null,
      "min_height": null,
      "min_width": null,
      "object_fit": null,
      "object_position": null,
      "order": null,
      "overflow": null,
      "overflow_x": null,
      "overflow_y": null,
      "padding": null,
      "right": null,
      "top": null,
      "visibility": null,
      "width": null
     }
    },
    "f29954f9f3514f2faa4b88c1a05be0f0": {
     "model_module": "@jupyter-widgets/base",
     "model_module_version": "1.2.0",
     "model_name": "LayoutModel",
     "state": {
      "_model_module": "@jupyter-widgets/base",
      "_model_module_version": "1.2.0",
      "_model_name": "LayoutModel",
      "_view_count": null,
      "_view_module": "@jupyter-widgets/base",
      "_view_module_version": "1.2.0",
      "_view_name": "LayoutView",
      "align_content": null,
      "align_items": null,
      "align_self": null,
      "border": null,
      "bottom": null,
      "display": null,
      "flex": null,
      "flex_flow": null,
      "grid_area": null,
      "grid_auto_columns": null,
      "grid_auto_flow": null,
      "grid_auto_rows": null,
      "grid_column": null,
      "grid_gap": null,
      "grid_row": null,
      "grid_template_areas": null,
      "grid_template_columns": null,
      "grid_template_rows": null,
      "height": null,
      "justify_content": null,
      "justify_items": null,
      "left": null,
      "margin": null,
      "max_height": null,
      "max_width": null,
      "min_height": null,
      "min_width": null,
      "object_fit": null,
      "object_position": null,
      "order": null,
      "overflow": null,
      "overflow_x": null,
      "overflow_y": null,
      "padding": null,
      "right": null,
      "top": null,
      "visibility": null,
      "width": null
     }
    },
    "f4faaa22ff194f5198526db3f9716768": {
     "model_module": "@jupyter-widgets/controls",
     "model_module_version": "1.5.0",
     "model_name": "HTMLModel",
     "state": {
      "_dom_classes": [],
      "_model_module": "@jupyter-widgets/controls",
      "_model_module_version": "1.5.0",
      "_model_name": "HTMLModel",
      "_view_count": null,
      "_view_module": "@jupyter-widgets/controls",
      "_view_module_version": "1.5.0",
      "_view_name": "HTMLView",
      "description": "",
      "description_tooltip": null,
      "layout": "IPY_MODEL_b68b364298f240c19c1dacbb6ab6d4ab",
      "placeholder": "​",
      "style": "IPY_MODEL_f8d8517ab2d548e8b761f1e1c6020b6b",
      "value": " 21.0M/21.0M [00:00&lt;00:00, 27.9MB/s]"
     }
    },
    "f8d8517ab2d548e8b761f1e1c6020b6b": {
     "model_module": "@jupyter-widgets/controls",
     "model_module_version": "1.5.0",
     "model_name": "DescriptionStyleModel",
     "state": {
      "_model_module": "@jupyter-widgets/controls",
      "_model_module_version": "1.5.0",
      "_model_name": "DescriptionStyleModel",
      "_view_count": null,
      "_view_module": "@jupyter-widgets/base",
      "_view_module_version": "1.2.0",
      "_view_name": "StyleView",
      "description_width": ""
     }
    },
    "fd7cd179aadc4c2a93d17764c367752e": {
     "model_module": "@jupyter-widgets/controls",
     "model_module_version": "1.5.0",
     "model_name": "DescriptionStyleModel",
     "state": {
      "_model_module": "@jupyter-widgets/controls",
      "_model_module_version": "1.5.0",
      "_model_name": "DescriptionStyleModel",
      "_view_count": null,
      "_view_module": "@jupyter-widgets/base",
      "_view_module_version": "1.2.0",
      "_view_name": "StyleView",
      "description_width": ""
     }
    }
   }
  }
 },
 "nbformat": 4,
 "nbformat_minor": 4
}
